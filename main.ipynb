{
 "cells": [
  {
   "cell_type": "markdown",
   "id": "pKNqVekGLLyd",
   "metadata": {
    "id": "pKNqVekGLLyd"
   },
   "source": [
    " # Google Data Analytics Capstone Project"
   ]
  },
  {
   "cell_type": "markdown",
   "id": "TBskKu5PM3yC",
   "metadata": {
    "id": "TBskKu5PM3yC"
   },
   "source": [
    "This capstone project is the final project in my Google Data Analytics Professional Certificate course. In this case study, I will be analyzing a public dataset for a fictional company provided by the course. I will be using Python for data analysis and PowerBi for visualizations."
   ]
  },
  {
   "cell_type": "markdown",
   "id": "GM7QolVPNFCd",
   "metadata": {
    "id": "GM7QolVPNFCd"
   },
   "source": [
    "**About the company**\n",
    "\n",
    "In 2016, Cyclistic launched a successful bike-share offering having a fleet of 5,824 bicycles that are tracked and locked into a network of 692 stations across Chicago. The bikes can be unlocked from one station and returned to any other station in the system at any time.\n",
    "\n",
    "The company's fleet has grown over the years and has reached 1380 station by august 2022.\n",
    "\n",
    "Riders who have an annual subscription are called members while riders who are single-ride or full-day pass users are considered casual riders.\n",
    "\n",
    "The director of marketing is looking to maximize the number of annual memberships as they are more profitable than single-ride or full-day passes. This strategy is believed to be the key to future growth."
   ]
  },
  {
   "cell_type": "markdown",
   "id": "TyyM8mwDNErl",
   "metadata": {
    "id": "TyyM8mwDNErl"
   },
   "source": [
    "**The following data analysis steps will be followed:**\n",
    "Ask, Prepare, Process, Analyze, Share, Act.\n",
    "\n",
    "## Ask\n",
    "\n",
    "\n"
   ]
  },
  {
   "cell_type": "markdown",
   "id": "DUWR3C-9Wv6h",
   "metadata": {
    "id": "DUWR3C-9Wv6h"
   },
   "source": [
    "The questions that need to be answered are:\n",
    "\n",
    "\n",
    "1.   How do annual members and casual riders use Cyclistic bikes differently?\n",
    "2.   How to convert casual riders into members?"
   ]
  },
  {
   "cell_type": "markdown",
   "id": "TxcJB10OWpfA",
   "metadata": {
    "id": "TxcJB10OWpfA"
   },
   "source": [
    "\n",
    "\n",
    "\n",
    "\n",
    "\n",
    "## Prepare\n"
   ]
  },
  {
   "cell_type": "markdown",
   "id": "bGOFZQpPNEdh",
   "metadata": {
    "id": "bGOFZQpPNEdh"
   },
   "source": [
    "The dataset follows the ROCCC Analysis as described below:\n",
    "\n",
    "**Reliable** - yes, not biased\n",
    "\n",
    "**Original** - yes, can locate the original public data\n",
    "\n",
    "**Comprehensive** - yes, not missing important information\n",
    "\n",
    "**Current** - yes, updated monthly\n",
    "\n",
    "**Cited** - yes\n",
    "\n",
    "I will be using the public dataset located [here](https://divvy-tripdata.s3.amazonaws.com/index.html) The data has been made available by Motivate International Inc. under this [license](https://ride.divvybikes.com/data-license-agreement).\n",
    "\n",
    "**Key Tasks Followed:**\n",
    "\n",
    "Downloaded data and copies have been stored on the computer.\n",
    "\n",
    "I have downloaded the data for AUG 21- JUL 22 Period.\n",
    "\n",
    "The data is in CSV (comma-separated values) format, and there are a total of 13 columns.\n",
    "**Installing and loading necessary packages**"
   ]
  },
  {
   "cell_type": "code",
   "execution_count": 1,
   "id": "921c943e",
   "metadata": {
    "id": "921c943e"
   },
   "outputs": [
    {
     "name": "stdout",
     "output_type": "stream",
     "text": [
      "Requirement already satisfied: pandasql in c:\\users\\acer\\anaconda3\\lib\\site-packages (0.7.3)\n",
      "Requirement already satisfied: sqlalchemy in c:\\users\\acer\\anaconda3\\lib\\site-packages (from pandasql) (1.4.32)\n",
      "Requirement already satisfied: pandas in c:\\users\\acer\\anaconda3\\lib\\site-packages (from pandasql) (1.4.2)\n",
      "Requirement already satisfied: numpy in c:\\users\\acer\\anaconda3\\lib\\site-packages (from pandasql) (1.21.5)\n",
      "Requirement already satisfied: pytz>=2020.1 in c:\\users\\acer\\anaconda3\\lib\\site-packages (from pandas->pandasql) (2021.3)\n",
      "Requirement already satisfied: python-dateutil>=2.8.1 in c:\\users\\acer\\anaconda3\\lib\\site-packages (from pandas->pandasql) (2.8.2)\n",
      "Requirement already satisfied: six>=1.5 in c:\\users\\acer\\anaconda3\\lib\\site-packages (from python-dateutil>=2.8.1->pandas->pandasql) (1.16.0)\n",
      "Requirement already satisfied: greenlet!=0.4.17 in c:\\users\\acer\\anaconda3\\lib\\site-packages (from sqlalchemy->pandasql) (1.1.1)\n"
     ]
    }
   ],
   "source": [
    "import pandas as pd\n",
    "!pip install pandasql\n",
    "from pandasql import sqldf\n",
    "from datetime import datetime\n",
    "import numpy as np\n",
    "\n",
    "%matplotlib inline\n",
    "import matplotlib as mpl\n",
    "import matplotlib.pyplot as plt"
   ]
  },
  {
   "cell_type": "markdown",
   "id": "4-Y3f1d3NyMm",
   "metadata": {
    "id": "4-Y3f1d3NyMm"
   },
   "source": [
    "**Importing data to Pandas DataFrame**"
   ]
  },
  {
   "cell_type": "code",
   "execution_count": 2,
   "id": "430034c0",
   "metadata": {
    "id": "430034c0"
   },
   "outputs": [],
   "source": [
    "file1=pd.read_csv('202108-divvy-tripdata.csv')\n",
    "file2=pd.read_csv('202109-divvy-tripdata.csv')\n",
    "file3=pd.read_csv('202110-divvy-tripdata.csv')\n",
    "file4=pd.read_csv('202111-divvy-tripdata.csv')\n",
    "file5=pd.read_csv('202112-divvy-tripdata.csv')\n",
    "file6=pd.read_csv('202201-divvy-tripdata.csv')\n",
    "file7=pd.read_csv('202202-divvy-tripdata.csv')\n",
    "file8=pd.read_csv('202203-divvy-tripdata.csv')\n",
    "file9=pd.read_csv('202204-divvy-tripdata.csv')\n",
    "file10=pd.read_csv('202205-divvy-tripdata.csv')\n",
    "file11=pd.read_csv('202206-divvy-tripdata.csv')\n",
    "file12=pd.read_csv('202207-divvy-tripdata.csv')"
   ]
  },
  {
   "cell_type": "markdown",
   "id": "QWkxJeKUQPeJ",
   "metadata": {
    "id": "QWkxJeKUQPeJ"
   },
   "source": [
    "**Merging data into a data frame**"
   ]
  },
  {
   "cell_type": "code",
   "execution_count": 3,
   "id": "0ab9dd09",
   "metadata": {
    "id": "0ab9dd09"
   },
   "outputs": [],
   "source": [
    "data=pd.concat([file6, file5,file4,file3,file1,file2,file7,file8,file9,file10,file11,file12], ignore_index=True)"
   ]
  },
  {
   "cell_type": "code",
   "execution_count": 4,
   "id": "jQkF3-BiQ2fP",
   "metadata": {
    "id": "jQkF3-BiQ2fP"
   },
   "outputs": [],
   "source": [
    "del file6, file5,file4,file3,file1,file2,file7,file8,file9,file10,file11,file12"
   ]
  },
  {
   "cell_type": "markdown",
   "id": "4s_7lTHFRFK7",
   "metadata": {
    "id": "4s_7lTHFRFK7"
   },
   "source": [
    "## Process\n",
    "**Cleaning and Preparing Data**"
   ]
  },
  {
   "cell_type": "markdown",
   "id": "dOCmipYEOVBg",
   "metadata": {
    "id": "dOCmipYEOVBg"
   },
   "source": [
    "\n",
    "**Checking the data**"
   ]
  },
  {
   "cell_type": "code",
   "execution_count": 5,
   "id": "0556b1d7",
   "metadata": {
    "id": "0556b1d7"
   },
   "outputs": [
    {
     "data": {
      "text/plain": [
       "(5901463, 13)"
      ]
     },
     "execution_count": 5,
     "metadata": {},
     "output_type": "execute_result"
    }
   ],
   "source": [
    "data.shape"
   ]
  },
  {
   "cell_type": "code",
   "execution_count": 6,
   "id": "84d86a0c",
   "metadata": {
    "executionInfo": {
     "elapsed": 8,
     "status": "aborted",
     "timestamp": 1662222716494,
     "user": {
      "displayName": "Abdelhak Lahmamssi",
      "userId": "07059654572306092413"
     },
     "user_tz": -120
    },
    "id": "84d86a0c"
   },
   "outputs": [
    {
     "data": {
      "text/plain": [
       "ride_id                object\n",
       "rideable_type          object\n",
       "started_at             object\n",
       "ended_at               object\n",
       "start_station_name     object\n",
       "start_station_id       object\n",
       "end_station_name       object\n",
       "end_station_id         object\n",
       "start_lat             float64\n",
       "start_lng             float64\n",
       "end_lat               float64\n",
       "end_lng               float64\n",
       "member_casual          object\n",
       "dtype: object"
      ]
     },
     "execution_count": 6,
     "metadata": {},
     "output_type": "execute_result"
    }
   ],
   "source": [
    "data.dtypes"
   ]
  },
  {
   "cell_type": "code",
   "execution_count": 7,
   "id": "5fd0a3e4",
   "metadata": {
    "executionInfo": {
     "elapsed": 7,
     "status": "aborted",
     "timestamp": 1662222716494,
     "user": {
      "displayName": "Abdelhak Lahmamssi",
      "userId": "07059654572306092413"
     },
     "user_tz": -120
    },
    "id": "5fd0a3e4",
    "scrolled": true
   },
   "outputs": [
    {
     "data": {
      "text/html": [
       "<div>\n",
       "<style scoped>\n",
       "    .dataframe tbody tr th:only-of-type {\n",
       "        vertical-align: middle;\n",
       "    }\n",
       "\n",
       "    .dataframe tbody tr th {\n",
       "        vertical-align: top;\n",
       "    }\n",
       "\n",
       "    .dataframe thead th {\n",
       "        text-align: right;\n",
       "    }\n",
       "</style>\n",
       "<table border=\"1\" class=\"dataframe\">\n",
       "  <thead>\n",
       "    <tr style=\"text-align: right;\">\n",
       "      <th></th>\n",
       "      <th>ride_id</th>\n",
       "      <th>rideable_type</th>\n",
       "      <th>started_at</th>\n",
       "      <th>ended_at</th>\n",
       "      <th>start_station_name</th>\n",
       "      <th>start_station_id</th>\n",
       "      <th>end_station_name</th>\n",
       "      <th>end_station_id</th>\n",
       "      <th>start_lat</th>\n",
       "      <th>start_lng</th>\n",
       "      <th>end_lat</th>\n",
       "      <th>end_lng</th>\n",
       "      <th>member_casual</th>\n",
       "    </tr>\n",
       "  </thead>\n",
       "  <tbody>\n",
       "    <tr>\n",
       "      <th>0</th>\n",
       "      <td>C2F7DD78E82EC875</td>\n",
       "      <td>electric_bike</td>\n",
       "      <td>2022-01-13 11:59:47</td>\n",
       "      <td>2022-01-13 12:02:44</td>\n",
       "      <td>Glenwood Ave &amp; Touhy Ave</td>\n",
       "      <td>525</td>\n",
       "      <td>Clark St &amp; Touhy Ave</td>\n",
       "      <td>RP-007</td>\n",
       "      <td>42.012800</td>\n",
       "      <td>-87.665906</td>\n",
       "      <td>42.012560</td>\n",
       "      <td>-87.674367</td>\n",
       "      <td>casual</td>\n",
       "    </tr>\n",
       "    <tr>\n",
       "      <th>1</th>\n",
       "      <td>A6CF8980A652D272</td>\n",
       "      <td>electric_bike</td>\n",
       "      <td>2022-01-10 08:41:56</td>\n",
       "      <td>2022-01-10 08:46:17</td>\n",
       "      <td>Glenwood Ave &amp; Touhy Ave</td>\n",
       "      <td>525</td>\n",
       "      <td>Clark St &amp; Touhy Ave</td>\n",
       "      <td>RP-007</td>\n",
       "      <td>42.012763</td>\n",
       "      <td>-87.665967</td>\n",
       "      <td>42.012560</td>\n",
       "      <td>-87.674367</td>\n",
       "      <td>casual</td>\n",
       "    </tr>\n",
       "    <tr>\n",
       "      <th>2</th>\n",
       "      <td>BD0F91DFF741C66D</td>\n",
       "      <td>classic_bike</td>\n",
       "      <td>2022-01-25 04:53:40</td>\n",
       "      <td>2022-01-25 04:58:01</td>\n",
       "      <td>Sheffield Ave &amp; Fullerton Ave</td>\n",
       "      <td>TA1306000016</td>\n",
       "      <td>Greenview Ave &amp; Fullerton Ave</td>\n",
       "      <td>TA1307000001</td>\n",
       "      <td>41.925602</td>\n",
       "      <td>-87.653708</td>\n",
       "      <td>41.925330</td>\n",
       "      <td>-87.665800</td>\n",
       "      <td>member</td>\n",
       "    </tr>\n",
       "    <tr>\n",
       "      <th>3</th>\n",
       "      <td>CBB80ED419105406</td>\n",
       "      <td>classic_bike</td>\n",
       "      <td>2022-01-04 00:18:04</td>\n",
       "      <td>2022-01-04 00:33:00</td>\n",
       "      <td>Clark St &amp; Bryn Mawr Ave</td>\n",
       "      <td>KA1504000151</td>\n",
       "      <td>Paulina St &amp; Montrose Ave</td>\n",
       "      <td>TA1309000021</td>\n",
       "      <td>41.983593</td>\n",
       "      <td>-87.669154</td>\n",
       "      <td>41.961507</td>\n",
       "      <td>-87.671387</td>\n",
       "      <td>casual</td>\n",
       "    </tr>\n",
       "    <tr>\n",
       "      <th>4</th>\n",
       "      <td>DDC963BFDDA51EEA</td>\n",
       "      <td>classic_bike</td>\n",
       "      <td>2022-01-20 01:31:10</td>\n",
       "      <td>2022-01-20 01:37:12</td>\n",
       "      <td>Michigan Ave &amp; Jackson Blvd</td>\n",
       "      <td>TA1309000002</td>\n",
       "      <td>State St &amp; Randolph St</td>\n",
       "      <td>TA1305000029</td>\n",
       "      <td>41.877850</td>\n",
       "      <td>-87.624080</td>\n",
       "      <td>41.884621</td>\n",
       "      <td>-87.627834</td>\n",
       "      <td>member</td>\n",
       "    </tr>\n",
       "  </tbody>\n",
       "</table>\n",
       "</div>"
      ],
      "text/plain": [
       "            ride_id  rideable_type           started_at             ended_at  \\\n",
       "0  C2F7DD78E82EC875  electric_bike  2022-01-13 11:59:47  2022-01-13 12:02:44   \n",
       "1  A6CF8980A652D272  electric_bike  2022-01-10 08:41:56  2022-01-10 08:46:17   \n",
       "2  BD0F91DFF741C66D   classic_bike  2022-01-25 04:53:40  2022-01-25 04:58:01   \n",
       "3  CBB80ED419105406   classic_bike  2022-01-04 00:18:04  2022-01-04 00:33:00   \n",
       "4  DDC963BFDDA51EEA   classic_bike  2022-01-20 01:31:10  2022-01-20 01:37:12   \n",
       "\n",
       "              start_station_name start_station_id  \\\n",
       "0       Glenwood Ave & Touhy Ave              525   \n",
       "1       Glenwood Ave & Touhy Ave              525   \n",
       "2  Sheffield Ave & Fullerton Ave     TA1306000016   \n",
       "3       Clark St & Bryn Mawr Ave     KA1504000151   \n",
       "4    Michigan Ave & Jackson Blvd     TA1309000002   \n",
       "\n",
       "                end_station_name end_station_id  start_lat  start_lng  \\\n",
       "0           Clark St & Touhy Ave         RP-007  42.012800 -87.665906   \n",
       "1           Clark St & Touhy Ave         RP-007  42.012763 -87.665967   \n",
       "2  Greenview Ave & Fullerton Ave   TA1307000001  41.925602 -87.653708   \n",
       "3      Paulina St & Montrose Ave   TA1309000021  41.983593 -87.669154   \n",
       "4         State St & Randolph St   TA1305000029  41.877850 -87.624080   \n",
       "\n",
       "     end_lat    end_lng member_casual  \n",
       "0  42.012560 -87.674367        casual  \n",
       "1  42.012560 -87.674367        casual  \n",
       "2  41.925330 -87.665800        member  \n",
       "3  41.961507 -87.671387        casual  \n",
       "4  41.884621 -87.627834        member  "
      ]
     },
     "execution_count": 7,
     "metadata": {},
     "output_type": "execute_result"
    }
   ],
   "source": [
    "data.head()"
   ]
  },
  {
   "cell_type": "code",
   "execution_count": 8,
   "id": "c8928169",
   "metadata": {
    "executionInfo": {
     "elapsed": 6,
     "status": "aborted",
     "timestamp": 1662222716495,
     "user": {
      "displayName": "Abdelhak Lahmamssi",
      "userId": "07059654572306092413"
     },
     "user_tz": -120
    },
    "id": "c8928169"
   },
   "outputs": [
    {
     "data": {
      "text/plain": [
       "ride_id                    0\n",
       "rideable_type              0\n",
       "started_at                 0\n",
       "ended_at                   0\n",
       "start_station_name    860786\n",
       "start_station_id      860784\n",
       "end_station_name      919896\n",
       "end_station_id        919896\n",
       "start_lat                  0\n",
       "start_lng                  0\n",
       "end_lat                 5590\n",
       "end_lng                 5590\n",
       "member_casual              0\n",
       "dtype: int64"
      ]
     },
     "execution_count": 8,
     "metadata": {},
     "output_type": "execute_result"
    }
   ],
   "source": [
    "data.isnull().sum()"
   ]
  },
  {
   "cell_type": "markdown",
   "id": "NR7H_fh6CNZi",
   "metadata": {
    "id": "NR7H_fh6CNZi"
   },
   "source": [
    "Almost 1/6 of the end_station_name and start_station_name data is missing we \n",
    "cannot just drop it "
   ]
  },
  {
   "cell_type": "markdown",
   "id": "yBNjUquHO6jK",
   "metadata": {
    "id": "yBNjUquHO6jK"
   },
   "source": [
    "### Make stations tables"
   ]
  },
  {
   "cell_type": "markdown",
   "id": "h8SkbRl_PFgA",
   "metadata": {
    "id": "h8SkbRl_PFgA"
   },
   "source": [
    "We set their coords as primary key to filter stations names"
   ]
  },
  {
   "cell_type": "code",
   "execution_count": 9,
   "id": "4de8e484",
   "metadata": {
    "id": "4de8e484"
   },
   "outputs": [],
   "source": [
    "stat_data=data"
   ]
  },
  {
   "cell_type": "code",
   "execution_count": 10,
   "id": "68784ff7",
   "metadata": {
    "id": "68784ff7"
   },
   "outputs": [],
   "source": [
    "stat_data=stat_data[stat_data['start_station_name'].notnull()]"
   ]
  },
  {
   "cell_type": "code",
   "execution_count": null,
   "id": "299937d4",
   "metadata": {},
   "outputs": [],
   "source": [
    "stat_data.drop_duplicates(subset='start_station_name',inplace=True)"
   ]
  },
  {
   "cell_type": "code",
   "execution_count": 12,
   "id": "da488c80",
   "metadata": {
    "colab": {
     "base_uri": "https://localhost:8080/"
    },
    "executionInfo": {
     "elapsed": 375,
     "status": "ok",
     "timestamp": 1661938096580,
     "user": {
      "displayName": "Abdelhak Lahmamssi",
      "userId": "07059654572306092413"
     },
     "user_tz": -120
    },
    "id": "da488c80",
    "outputId": "0f5d125f-3a7e-46d1-fb13-8182a078d210"
   },
   "outputs": [
    {
     "data": {
      "text/plain": [
       "1381"
      ]
     },
     "execution_count": 12,
     "metadata": {},
     "output_type": "execute_result"
    }
   ],
   "source": [
    "len(stat_data)"
   ]
  },
  {
   "cell_type": "code",
   "execution_count": 13,
   "id": "b9f10fae",
   "metadata": {
    "colab": {
     "base_uri": "https://localhost:8080/",
     "height": 444
    },
    "executionInfo": {
     "elapsed": 8,
     "status": "ok",
     "timestamp": 1661938097015,
     "user": {
      "displayName": "Abdelhak Lahmamssi",
      "userId": "07059654572306092413"
     },
     "user_tz": -120
    },
    "id": "b9f10fae",
    "outputId": "fd2dd76b-72fc-4668-b45a-2781cc8471ba"
   },
   "outputs": [
    {
     "data": {
      "text/html": [
       "<div>\n",
       "<style scoped>\n",
       "    .dataframe tbody tr th:only-of-type {\n",
       "        vertical-align: middle;\n",
       "    }\n",
       "\n",
       "    .dataframe tbody tr th {\n",
       "        vertical-align: top;\n",
       "    }\n",
       "\n",
       "    .dataframe thead th {\n",
       "        text-align: right;\n",
       "    }\n",
       "</style>\n",
       "<table border=\"1\" class=\"dataframe\">\n",
       "  <thead>\n",
       "    <tr style=\"text-align: right;\">\n",
       "      <th></th>\n",
       "      <th>ride_id</th>\n",
       "      <th>rideable_type</th>\n",
       "      <th>started_at</th>\n",
       "      <th>ended_at</th>\n",
       "      <th>start_station_name</th>\n",
       "      <th>start_station_id</th>\n",
       "      <th>end_station_name</th>\n",
       "      <th>end_station_id</th>\n",
       "      <th>start_lat</th>\n",
       "      <th>start_lng</th>\n",
       "      <th>end_lat</th>\n",
       "      <th>end_lng</th>\n",
       "      <th>member_casual</th>\n",
       "    </tr>\n",
       "  </thead>\n",
       "  <tbody>\n",
       "    <tr>\n",
       "      <th>0</th>\n",
       "      <td>C2F7DD78E82EC875</td>\n",
       "      <td>electric_bike</td>\n",
       "      <td>2022-01-13 11:59:47</td>\n",
       "      <td>2022-01-13 12:02:44</td>\n",
       "      <td>Glenwood Ave &amp; Touhy Ave</td>\n",
       "      <td>525</td>\n",
       "      <td>Clark St &amp; Touhy Ave</td>\n",
       "      <td>RP-007</td>\n",
       "      <td>42.012800</td>\n",
       "      <td>-87.665906</td>\n",
       "      <td>42.012560</td>\n",
       "      <td>-87.674367</td>\n",
       "      <td>casual</td>\n",
       "    </tr>\n",
       "    <tr>\n",
       "      <th>2</th>\n",
       "      <td>BD0F91DFF741C66D</td>\n",
       "      <td>classic_bike</td>\n",
       "      <td>2022-01-25 04:53:40</td>\n",
       "      <td>2022-01-25 04:58:01</td>\n",
       "      <td>Sheffield Ave &amp; Fullerton Ave</td>\n",
       "      <td>TA1306000016</td>\n",
       "      <td>Greenview Ave &amp; Fullerton Ave</td>\n",
       "      <td>TA1307000001</td>\n",
       "      <td>41.925602</td>\n",
       "      <td>-87.653708</td>\n",
       "      <td>41.925330</td>\n",
       "      <td>-87.665800</td>\n",
       "      <td>member</td>\n",
       "    </tr>\n",
       "    <tr>\n",
       "      <th>3</th>\n",
       "      <td>CBB80ED419105406</td>\n",
       "      <td>classic_bike</td>\n",
       "      <td>2022-01-04 00:18:04</td>\n",
       "      <td>2022-01-04 00:33:00</td>\n",
       "      <td>Clark St &amp; Bryn Mawr Ave</td>\n",
       "      <td>KA1504000151</td>\n",
       "      <td>Paulina St &amp; Montrose Ave</td>\n",
       "      <td>TA1309000021</td>\n",
       "      <td>41.983593</td>\n",
       "      <td>-87.669154</td>\n",
       "      <td>41.961507</td>\n",
       "      <td>-87.671387</td>\n",
       "      <td>casual</td>\n",
       "    </tr>\n",
       "    <tr>\n",
       "      <th>4</th>\n",
       "      <td>DDC963BFDDA51EEA</td>\n",
       "      <td>classic_bike</td>\n",
       "      <td>2022-01-20 01:31:10</td>\n",
       "      <td>2022-01-20 01:37:12</td>\n",
       "      <td>Michigan Ave &amp; Jackson Blvd</td>\n",
       "      <td>TA1309000002</td>\n",
       "      <td>State St &amp; Randolph St</td>\n",
       "      <td>TA1305000029</td>\n",
       "      <td>41.877850</td>\n",
       "      <td>-87.624080</td>\n",
       "      <td>41.884621</td>\n",
       "      <td>-87.627834</td>\n",
       "      <td>member</td>\n",
       "    </tr>\n",
       "    <tr>\n",
       "      <th>5</th>\n",
       "      <td>A39C6F6CC0586C0B</td>\n",
       "      <td>classic_bike</td>\n",
       "      <td>2022-01-11 18:48:09</td>\n",
       "      <td>2022-01-11 18:51:31</td>\n",
       "      <td>Wood St &amp; Chicago Ave</td>\n",
       "      <td>637</td>\n",
       "      <td>Honore St &amp; Division St</td>\n",
       "      <td>TA1305000034</td>\n",
       "      <td>41.895634</td>\n",
       "      <td>-87.672069</td>\n",
       "      <td>41.903119</td>\n",
       "      <td>-87.673935</td>\n",
       "      <td>member</td>\n",
       "    </tr>\n",
       "  </tbody>\n",
       "</table>\n",
       "</div>"
      ],
      "text/plain": [
       "            ride_id  rideable_type           started_at             ended_at  \\\n",
       "0  C2F7DD78E82EC875  electric_bike  2022-01-13 11:59:47  2022-01-13 12:02:44   \n",
       "2  BD0F91DFF741C66D   classic_bike  2022-01-25 04:53:40  2022-01-25 04:58:01   \n",
       "3  CBB80ED419105406   classic_bike  2022-01-04 00:18:04  2022-01-04 00:33:00   \n",
       "4  DDC963BFDDA51EEA   classic_bike  2022-01-20 01:31:10  2022-01-20 01:37:12   \n",
       "5  A39C6F6CC0586C0B   classic_bike  2022-01-11 18:48:09  2022-01-11 18:51:31   \n",
       "\n",
       "              start_station_name start_station_id  \\\n",
       "0       Glenwood Ave & Touhy Ave              525   \n",
       "2  Sheffield Ave & Fullerton Ave     TA1306000016   \n",
       "3       Clark St & Bryn Mawr Ave     KA1504000151   \n",
       "4    Michigan Ave & Jackson Blvd     TA1309000002   \n",
       "5          Wood St & Chicago Ave              637   \n",
       "\n",
       "                end_station_name end_station_id  start_lat  start_lng  \\\n",
       "0           Clark St & Touhy Ave         RP-007  42.012800 -87.665906   \n",
       "2  Greenview Ave & Fullerton Ave   TA1307000001  41.925602 -87.653708   \n",
       "3      Paulina St & Montrose Ave   TA1309000021  41.983593 -87.669154   \n",
       "4         State St & Randolph St   TA1305000029  41.877850 -87.624080   \n",
       "5        Honore St & Division St   TA1305000034  41.895634 -87.672069   \n",
       "\n",
       "     end_lat    end_lng member_casual  \n",
       "0  42.012560 -87.674367        casual  \n",
       "2  41.925330 -87.665800        member  \n",
       "3  41.961507 -87.671387        casual  \n",
       "4  41.884621 -87.627834        member  \n",
       "5  41.903119 -87.673935        member  "
      ]
     },
     "execution_count": 13,
     "metadata": {},
     "output_type": "execute_result"
    }
   ],
   "source": [
    "stat_data.head()"
   ]
  },
  {
   "cell_type": "code",
   "execution_count": null,
   "id": "32d019be",
   "metadata": {},
   "outputs": [],
   "source": [
    "stat_data.drop(['ride_id','rideable_type','started_at','ended_at','end_station_name','end_station_id','member_casual','end_lat','end_lng'], axis=1,inplace=True)"
   ]
  },
  {
   "cell_type": "code",
   "execution_count": 15,
   "id": "c1ed8a12",
   "metadata": {
    "id": "c1ed8a12"
   },
   "outputs": [],
   "source": [
    "stat_data.reset_index( drop=True, inplace=True)"
   ]
  },
  {
   "cell_type": "code",
   "execution_count": null,
   "id": "bf0b3d10",
   "metadata": {},
   "outputs": [],
   "source": [
    "stat_data.rename(columns = {'start_lat':'station_lat','start_lng':'station_lng','start_station_name':'station_name','start_station_id':'station_id'}, inplace = True)"
   ]
  },
  {
   "cell_type": "markdown",
   "id": "awsIZmlCPocm",
   "metadata": {
    "id": "awsIZmlCPocm"
   },
   "source": [
    "#### Create station tables with 4 decimals"
   ]
  },
  {
   "cell_type": "markdown",
   "id": "vN2F4Ny-PxT4",
   "metadata": {
    "id": "vN2F4Ny-PxT4"
   },
   "source": [
    "A value in decimal degrees to 5 decimal places is accurate to 1.11m which can not be the case.\n",
    "\n",
    "Therefore we choose 4 (number of stations with 4 decimals in coors is the same number of stations with non-rounded coors)\n",
    "\n",
    "\n",
    "\n"
   ]
  },
  {
   "cell_type": "code",
   "execution_count": 17,
   "id": "63993de0",
   "metadata": {
    "colab": {
     "base_uri": "https://localhost:8080/",
     "height": 217
    },
    "executionInfo": {
     "elapsed": 7,
     "status": "error",
     "timestamp": 1662222748445,
     "user": {
      "displayName": "Abdelhak Lahmamssi",
      "userId": "07059654572306092413"
     },
     "user_tz": -120
    },
    "id": "63993de0",
    "outputId": "10435925-78a6-4f5a-f62c-3e4accd9d4df"
   },
   "outputs": [],
   "source": [
    "station_coor=[]\n",
    "for i in range(0,len(stat_data)):\n",
    "    a=(round(stat_data['station_lat'].values[i],4),round(stat_data['station_lng'].values[i],4))\n",
    "    station_coor.append(a)"
   ]
  },
  {
   "cell_type": "code",
   "execution_count": 18,
   "id": "ffa50a6d",
   "metadata": {
    "colab": {
     "base_uri": "https://localhost:8080/",
     "height": 165
    },
    "executionInfo": {
     "elapsed": 3,
     "status": "error",
     "timestamp": 1662222747616,
     "user": {
      "displayName": "Abdelhak Lahmamssi",
      "userId": "07059654572306092413"
     },
     "user_tz": -120
    },
    "id": "ffa50a6d",
    "outputId": "97a230e0-d938-4a08-e606-1fe4c8ab740f"
   },
   "outputs": [],
   "source": [
    "stat_data.insert(4,'station_coor',station_coor)"
   ]
  },
  {
   "cell_type": "code",
   "execution_count": 19,
   "id": "ub6w3WO0O3dx",
   "metadata": {
    "executionInfo": {
     "elapsed": 3,
     "status": "aborted",
     "timestamp": 1662222747617,
     "user": {
      "displayName": "Abdelhak Lahmamssi",
      "userId": "07059654572306092413"
     },
     "user_tz": -120
    },
    "id": "ub6w3WO0O3dx"
   },
   "outputs": [],
   "source": [
    "del station_coor"
   ]
  },
  {
   "cell_type": "code",
   "execution_count": 20,
   "id": "27cedb17",
   "metadata": {
    "colab": {
     "base_uri": "https://localhost:8080/",
     "height": 165
    },
    "executionInfo": {
     "elapsed": 7,
     "status": "error",
     "timestamp": 1662222748036,
     "user": {
      "displayName": "Abdelhak Lahmamssi",
      "userId": "07059654572306092413"
     },
     "user_tz": -120
    },
    "id": "27cedb17",
    "outputId": "279bc40f-3d02-4642-af04-1a40cc2599b4"
   },
   "outputs": [
    {
     "data": {
      "text/html": [
       "<div>\n",
       "<style scoped>\n",
       "    .dataframe tbody tr th:only-of-type {\n",
       "        vertical-align: middle;\n",
       "    }\n",
       "\n",
       "    .dataframe tbody tr th {\n",
       "        vertical-align: top;\n",
       "    }\n",
       "\n",
       "    .dataframe thead th {\n",
       "        text-align: right;\n",
       "    }\n",
       "</style>\n",
       "<table border=\"1\" class=\"dataframe\">\n",
       "  <thead>\n",
       "    <tr style=\"text-align: right;\">\n",
       "      <th></th>\n",
       "      <th>station_name</th>\n",
       "      <th>station_id</th>\n",
       "      <th>station_lat</th>\n",
       "      <th>station_lng</th>\n",
       "      <th>station_coor</th>\n",
       "    </tr>\n",
       "  </thead>\n",
       "  <tbody>\n",
       "    <tr>\n",
       "      <th>0</th>\n",
       "      <td>Glenwood Ave &amp; Touhy Ave</td>\n",
       "      <td>525</td>\n",
       "      <td>42.012800</td>\n",
       "      <td>-87.665906</td>\n",
       "      <td>(42.0128, -87.6659)</td>\n",
       "    </tr>\n",
       "    <tr>\n",
       "      <th>1</th>\n",
       "      <td>Sheffield Ave &amp; Fullerton Ave</td>\n",
       "      <td>TA1306000016</td>\n",
       "      <td>41.925602</td>\n",
       "      <td>-87.653708</td>\n",
       "      <td>(41.9256, -87.6537)</td>\n",
       "    </tr>\n",
       "    <tr>\n",
       "      <th>2</th>\n",
       "      <td>Clark St &amp; Bryn Mawr Ave</td>\n",
       "      <td>KA1504000151</td>\n",
       "      <td>41.983593</td>\n",
       "      <td>-87.669154</td>\n",
       "      <td>(41.9836, -87.6692)</td>\n",
       "    </tr>\n",
       "    <tr>\n",
       "      <th>3</th>\n",
       "      <td>Michigan Ave &amp; Jackson Blvd</td>\n",
       "      <td>TA1309000002</td>\n",
       "      <td>41.877850</td>\n",
       "      <td>-87.624080</td>\n",
       "      <td>(41.8778, -87.6241)</td>\n",
       "    </tr>\n",
       "    <tr>\n",
       "      <th>4</th>\n",
       "      <td>Wood St &amp; Chicago Ave</td>\n",
       "      <td>637</td>\n",
       "      <td>41.895634</td>\n",
       "      <td>-87.672069</td>\n",
       "      <td>(41.8956, -87.6721)</td>\n",
       "    </tr>\n",
       "  </tbody>\n",
       "</table>\n",
       "</div>"
      ],
      "text/plain": [
       "                    station_name    station_id  station_lat  station_lng  \\\n",
       "0       Glenwood Ave & Touhy Ave           525    42.012800   -87.665906   \n",
       "1  Sheffield Ave & Fullerton Ave  TA1306000016    41.925602   -87.653708   \n",
       "2       Clark St & Bryn Mawr Ave  KA1504000151    41.983593   -87.669154   \n",
       "3    Michigan Ave & Jackson Blvd  TA1309000002    41.877850   -87.624080   \n",
       "4          Wood St & Chicago Ave           637    41.895634   -87.672069   \n",
       "\n",
       "          station_coor  \n",
       "0  (42.0128, -87.6659)  \n",
       "1  (41.9256, -87.6537)  \n",
       "2  (41.9836, -87.6692)  \n",
       "3  (41.8778, -87.6241)  \n",
       "4  (41.8956, -87.6721)  "
      ]
     },
     "execution_count": 20,
     "metadata": {},
     "output_type": "execute_result"
    }
   ],
   "source": [
    "stat_data.head()"
   ]
  },
  {
   "cell_type": "code",
   "execution_count": 21,
   "id": "6c7ec34e",
   "metadata": {
    "executionInfo": {
     "elapsed": 5,
     "status": "aborted",
     "timestamp": 1662222748036,
     "user": {
      "displayName": "Abdelhak Lahmamssi",
      "userId": "07059654572306092413"
     },
     "user_tz": -120
    },
    "id": "6c7ec34e"
   },
   "outputs": [
    {
     "data": {
      "text/plain": [
       "996"
      ]
     },
     "execution_count": 21,
     "metadata": {},
     "output_type": "execute_result"
    }
   ],
   "source": [
    "len(stat_data['station_coor'].unique())"
   ]
  },
  {
   "cell_type": "markdown",
   "id": "F15hMaVWQ4BJ",
   "metadata": {
    "id": "F15hMaVWQ4BJ"
   },
   "source": [
    "we have 997 station coor(even if not rounded to 4) while we also have 1382 station whicch means that due to gps \n",
    "\n",
    "related data entry imprecision we will have to assume that the stations with\n",
    "the same coor are one"
   ]
  },
  {
   "cell_type": "code",
   "execution_count": null,
   "id": "503be1f1",
   "metadata": {},
   "outputs": [],
   "source": [
    "stat_data.drop_duplicates(subset='station_coor',inplace=True)"
   ]
  },
  {
   "cell_type": "code",
   "execution_count": 23,
   "id": "78108a71",
   "metadata": {
    "executionInfo": {
     "elapsed": 7,
     "status": "aborted",
     "timestamp": 1662222748038,
     "user": {
      "displayName": "Abdelhak Lahmamssi",
      "userId": "07059654572306092413"
     },
     "user_tz": -120
    },
    "id": "78108a71"
   },
   "outputs": [
    {
     "data": {
      "text/plain": [
       "965"
      ]
     },
     "execution_count": 23,
     "metadata": {},
     "output_type": "execute_result"
    }
   ],
   "source": [
    "len(stat_data['station_id'].unique())"
   ]
  },
  {
   "cell_type": "markdown",
   "id": "ytshZSiaREM0",
   "metadata": {
    "id": "ytshZSiaREM0"
   },
   "source": [
    "we have 998 station and 966 station id which means there exists different\n",
    "stations with same id  which means that \n",
    "\n",
    "station_id is not a primary key thus irrelevant\n",
    "\n",
    "NB: we only use this table to replace missing values and not to change any value that already exists"
   ]
  },
  {
   "cell_type": "code",
   "execution_count": null,
   "id": "678d81cb",
   "metadata": {},
   "outputs": [],
   "source": [
    "stat_data.drop(['station_id'], axis=1,inplace=True)"
   ]
  },
  {
   "cell_type": "code",
   "execution_count": 25,
   "id": "85b98220",
   "metadata": {
    "executionInfo": {
     "elapsed": 8,
     "status": "aborted",
     "timestamp": 1662222748040,
     "user": {
      "displayName": "Abdelhak Lahmamssi",
      "userId": "07059654572306092413"
     },
     "user_tz": -120
    },
    "id": "85b98220"
   },
   "outputs": [],
   "source": [
    "data.drop(['start_station_id','end_station_id'], axis=1,inplace=True)"
   ]
  },
  {
   "cell_type": "code",
   "execution_count": 26,
   "id": "cc2b018f",
   "metadata": {
    "executionInfo": {
     "elapsed": 8,
     "status": "aborted",
     "timestamp": 1662222748040,
     "user": {
      "displayName": "Abdelhak Lahmamssi",
      "userId": "07059654572306092413"
     },
     "user_tz": -120
    },
    "id": "cc2b018f"
   },
   "outputs": [],
   "source": [
    "stat_data.to_csv('station_data4.csv')"
   ]
  },
  {
   "cell_type": "markdown",
   "id": "NBukfV0tPeVi",
   "metadata": {
    "id": "NBukfV0tPeVi"
   },
   "source": [
    "#### Create station data with rounded coor all the way to 1 decimal(to match imprecision coor)"
   ]
  },
  {
   "cell_type": "markdown",
   "id": "YWFNSG1zC6eh",
   "metadata": {
    "id": "YWFNSG1zC6eh"
   },
   "source": [
    "Our goal is to get an approximative location where riders start and end their rides in order to do so we round the coordinates to get the closest station to the location the gps detects"
   ]
  },
  {
   "cell_type": "code",
   "execution_count": null,
   "id": "24773ddf",
   "metadata": {
    "id": "24773ddf"
   },
   "outputs": [],
   "source": [
    "for j in range(1,4):\n",
    "    station_coor=[]\n",
    "    for i in range(0,len(stat_data)):\n",
    "        a=(round(stat_data['station_lat'].values[i],j),round(stat_data['station_lng'].values[i],j))\n",
    "        station_coor.append(a)\n",
    "    stat_data.drop(['station_coor'], axis=1,inplace=True)\n",
    "    stat_data.insert(4,'station_coor',station_coor)\n",
    "    stat_data=stat_data.drop_duplicates('station_coor',ignore_index=True)\n",
    "    stat_data.to_csv(\"station_data\"+str(j)+\".csv\")"
   ]
  },
  {
   "cell_type": "code",
   "execution_count": null,
   "id": "09839e10",
   "metadata": {
    "id": "09839e10"
   },
   "outputs": [],
   "source": [
    "del station_coor"
   ]
  },
  {
   "cell_type": "code",
   "execution_count": null,
   "id": "6854ca8c",
   "metadata": {
    "id": "6854ca8c"
   },
   "outputs": [],
   "source": []
  },
  {
   "cell_type": "markdown",
   "id": "qRuhHCaXRdmi",
   "metadata": {
    "id": "qRuhHCaXRdmi"
   },
   "source": [
    "### Replace missing values of station data in table"
   ]
  },
  {
   "cell_type": "markdown",
   "id": "V6Pe7_MfRkmv",
   "metadata": {
    "id": "V6Pe7_MfRkmv"
   },
   "source": [
    "We have 5590 rides with no end coor and these same rows have no station name neither id which \n",
    "\n",
    "means there is no way of knowing the end station \n"
   ]
  },
  {
   "cell_type": "code",
   "execution_count": 27,
   "id": "aed7a42f",
   "metadata": {
    "id": "aed7a42f"
   },
   "outputs": [],
   "source": [
    "data=data[data['end_lat'].notnull()]"
   ]
  },
  {
   "cell_type": "code",
   "execution_count": null,
   "id": "1220b7f4",
   "metadata": {
    "colab": {
     "base_uri": "https://localhost:8080/"
    },
    "executionInfo": {
     "elapsed": 1370,
     "status": "ok",
     "timestamp": 1661939916205,
     "user": {
      "displayName": "Abdelhak Lahmamssi",
      "userId": "07059654572306092413"
     },
     "user_tz": -120
    },
    "id": "1220b7f4",
    "outputId": "8b1d33fe-a66f-4935-ef0b-51955704df8b"
   },
   "outputs": [
    {
     "data": {
      "text/plain": [
       "ride_id                    0\n",
       "rideable_type              0\n",
       "started_at                 0\n",
       "ended_at                   0\n",
       "start_station_name    860786\n",
       "start_station_id      860784\n",
       "end_station_name      914306\n",
       "end_station_id        914306\n",
       "start_lat                  0\n",
       "start_lng                  0\n",
       "end_lat                    0\n",
       "end_lng                    0\n",
       "member_casual              0\n",
       "dtype: int64"
      ]
     },
     "execution_count": 15,
     "metadata": {},
     "output_type": "execute_result"
    }
   ],
   "source": [
    "data.isnull().sum()"
   ]
  },
  {
   "cell_type": "markdown",
   "id": "imrOC715XCPO",
   "metadata": {
    "id": "imrOC715XCPO"
   },
   "source": [
    "I tried to replace it by using loops but that just takes too much time(5m rows and 1000 stations results to 5b iteration)"
   ]
  },
  {
   "cell_type": "markdown",
   "id": "nUJumnlDSG_0",
   "metadata": {
    "id": "nUJumnlDSG_0"
   },
   "source": [
    "In order to work with sqldf we have to convert all the dataframe columns into str"
   ]
  },
  {
   "cell_type": "code",
   "execution_count": null,
   "id": "01d05b62",
   "metadata": {
    "id": "01d05b62"
   },
   "outputs": [],
   "source": [
    "data=data.applymap(str)"
   ]
  },
  {
   "cell_type": "markdown",
   "id": "z-NaRAzTSN_1",
   "metadata": {
    "id": "z-NaRAzTSN_1"
   },
   "source": [
    "we create a subset of missing data"
   ]
  },
  {
   "cell_type": "code",
   "execution_count": null,
   "id": "4669fc23",
   "metadata": {
    "id": "4669fc23"
   },
   "outputs": [],
   "source": [
    "missing_stat=sqldf(\"select * from data where start_station_name='nan' or end_station_name='nan' \")"
   ]
  },
  {
   "cell_type": "code",
   "execution_count": null,
   "id": "a99ec53b",
   "metadata": {
    "colab": {
     "base_uri": "https://localhost:8080/",
     "height": 444
    },
    "executionInfo": {
     "elapsed": 351,
     "status": "ok",
     "timestamp": 1661940177837,
     "user": {
      "displayName": "Abdelhak Lahmamssi",
      "userId": "07059654572306092413"
     },
     "user_tz": -120
    },
    "id": "a99ec53b",
    "outputId": "6c62aebd-c19c-4e38-e535-ad1d6d62a2e1",
    "scrolled": true
   },
   "outputs": [
    {
     "data": {
      "text/html": [
       "\n",
       "  <div id=\"df-8565f1f1-c2c5-437b-ac16-ad1250e6128c\">\n",
       "    <div class=\"colab-df-container\">\n",
       "      <div>\n",
       "<style scoped>\n",
       "    .dataframe tbody tr th:only-of-type {\n",
       "        vertical-align: middle;\n",
       "    }\n",
       "\n",
       "    .dataframe tbody tr th {\n",
       "        vertical-align: top;\n",
       "    }\n",
       "\n",
       "    .dataframe thead th {\n",
       "        text-align: right;\n",
       "    }\n",
       "</style>\n",
       "<table border=\"1\" class=\"dataframe\">\n",
       "  <thead>\n",
       "    <tr style=\"text-align: right;\">\n",
       "      <th></th>\n",
       "      <th>ride_id</th>\n",
       "      <th>rideable_type</th>\n",
       "      <th>started_at</th>\n",
       "      <th>ended_at</th>\n",
       "      <th>week_day</th>\n",
       "      <th>ride_length</th>\n",
       "      <th>start_station_name</th>\n",
       "      <th>start_station_id</th>\n",
       "      <th>end_station_name</th>\n",
       "      <th>end_station_id</th>\n",
       "      <th>start_lat</th>\n",
       "      <th>start_lng</th>\n",
       "      <th>end_lat</th>\n",
       "      <th>end_lng</th>\n",
       "      <th>member_casual</th>\n",
       "    </tr>\n",
       "  </thead>\n",
       "  <tbody>\n",
       "    <tr>\n",
       "      <th>0</th>\n",
       "      <td>99103BB87CC6C1BB</td>\n",
       "      <td>electric_bike</td>\n",
       "      <td>2021-08-10 17:15:49</td>\n",
       "      <td>2021-08-10 17:22:44</td>\n",
       "      <td>1</td>\n",
       "      <td>0 days 00:06:55</td>\n",
       "      <td>nan</td>\n",
       "      <td>nan</td>\n",
       "      <td>nan</td>\n",
       "      <td>nan</td>\n",
       "      <td>41.77</td>\n",
       "      <td>-87.68</td>\n",
       "      <td>41.77</td>\n",
       "      <td>-87.68</td>\n",
       "      <td>member</td>\n",
       "    </tr>\n",
       "    <tr>\n",
       "      <th>1</th>\n",
       "      <td>EAFCCCFB0A3FC5A1</td>\n",
       "      <td>electric_bike</td>\n",
       "      <td>2021-08-10 17:23:14</td>\n",
       "      <td>2021-08-10 17:39:24</td>\n",
       "      <td>1</td>\n",
       "      <td>0 days 00:16:10</td>\n",
       "      <td>nan</td>\n",
       "      <td>nan</td>\n",
       "      <td>nan</td>\n",
       "      <td>nan</td>\n",
       "      <td>41.77</td>\n",
       "      <td>-87.68</td>\n",
       "      <td>41.77</td>\n",
       "      <td>-87.63</td>\n",
       "      <td>member</td>\n",
       "    </tr>\n",
       "    <tr>\n",
       "      <th>2</th>\n",
       "      <td>9EF4F46C57AD234D</td>\n",
       "      <td>electric_bike</td>\n",
       "      <td>2021-08-21 02:34:23</td>\n",
       "      <td>2021-08-21 02:50:36</td>\n",
       "      <td>5</td>\n",
       "      <td>0 days 00:16:13</td>\n",
       "      <td>nan</td>\n",
       "      <td>nan</td>\n",
       "      <td>nan</td>\n",
       "      <td>nan</td>\n",
       "      <td>41.95</td>\n",
       "      <td>-87.65</td>\n",
       "      <td>41.97</td>\n",
       "      <td>-87.66</td>\n",
       "      <td>member</td>\n",
       "    </tr>\n",
       "    <tr>\n",
       "      <th>3</th>\n",
       "      <td>5834D3208BFAF1DA</td>\n",
       "      <td>electric_bike</td>\n",
       "      <td>2021-08-21 06:52:55</td>\n",
       "      <td>2021-08-21 07:08:13</td>\n",
       "      <td>5</td>\n",
       "      <td>0 days 00:15:18</td>\n",
       "      <td>nan</td>\n",
       "      <td>nan</td>\n",
       "      <td>nan</td>\n",
       "      <td>nan</td>\n",
       "      <td>41.97</td>\n",
       "      <td>-87.67</td>\n",
       "      <td>41.95</td>\n",
       "      <td>-87.65</td>\n",
       "      <td>member</td>\n",
       "    </tr>\n",
       "    <tr>\n",
       "      <th>4</th>\n",
       "      <td>CD825CB87ED1D096</td>\n",
       "      <td>electric_bike</td>\n",
       "      <td>2021-08-19 11:55:29</td>\n",
       "      <td>2021-08-19 12:04:11</td>\n",
       "      <td>3</td>\n",
       "      <td>0 days 00:08:42</td>\n",
       "      <td>nan</td>\n",
       "      <td>nan</td>\n",
       "      <td>nan</td>\n",
       "      <td>nan</td>\n",
       "      <td>41.79</td>\n",
       "      <td>-87.6</td>\n",
       "      <td>41.77</td>\n",
       "      <td>-87.62</td>\n",
       "      <td>member</td>\n",
       "    </tr>\n",
       "  </tbody>\n",
       "</table>\n",
       "</div>\n",
       "      <button class=\"colab-df-convert\" onclick=\"convertToInteractive('df-8565f1f1-c2c5-437b-ac16-ad1250e6128c')\"\n",
       "              title=\"Convert this dataframe to an interactive table.\"\n",
       "              style=\"display:none;\">\n",
       "        \n",
       "  <svg xmlns=\"http://www.w3.org/2000/svg\" height=\"24px\"viewBox=\"0 0 24 24\"\n",
       "       width=\"24px\">\n",
       "    <path d=\"M0 0h24v24H0V0z\" fill=\"none\"/>\n",
       "    <path d=\"M18.56 5.44l.94 2.06.94-2.06 2.06-.94-2.06-.94-.94-2.06-.94 2.06-2.06.94zm-11 1L8.5 8.5l.94-2.06 2.06-.94-2.06-.94L8.5 2.5l-.94 2.06-2.06.94zm10 10l.94 2.06.94-2.06 2.06-.94-2.06-.94-.94-2.06-.94 2.06-2.06.94z\"/><path d=\"M17.41 7.96l-1.37-1.37c-.4-.4-.92-.59-1.43-.59-.52 0-1.04.2-1.43.59L10.3 9.45l-7.72 7.72c-.78.78-.78 2.05 0 2.83L4 21.41c.39.39.9.59 1.41.59.51 0 1.02-.2 1.41-.59l7.78-7.78 2.81-2.81c.8-.78.8-2.07 0-2.86zM5.41 20L4 18.59l7.72-7.72 1.47 1.35L5.41 20z\"/>\n",
       "  </svg>\n",
       "      </button>\n",
       "      \n",
       "  <style>\n",
       "    .colab-df-container {\n",
       "      display:flex;\n",
       "      flex-wrap:wrap;\n",
       "      gap: 12px;\n",
       "    }\n",
       "\n",
       "    .colab-df-convert {\n",
       "      background-color: #E8F0FE;\n",
       "      border: none;\n",
       "      border-radius: 50%;\n",
       "      cursor: pointer;\n",
       "      display: none;\n",
       "      fill: #1967D2;\n",
       "      height: 32px;\n",
       "      padding: 0 0 0 0;\n",
       "      width: 32px;\n",
       "    }\n",
       "\n",
       "    .colab-df-convert:hover {\n",
       "      background-color: #E2EBFA;\n",
       "      box-shadow: 0px 1px 2px rgba(60, 64, 67, 0.3), 0px 1px 3px 1px rgba(60, 64, 67, 0.15);\n",
       "      fill: #174EA6;\n",
       "    }\n",
       "\n",
       "    [theme=dark] .colab-df-convert {\n",
       "      background-color: #3B4455;\n",
       "      fill: #D2E3FC;\n",
       "    }\n",
       "\n",
       "    [theme=dark] .colab-df-convert:hover {\n",
       "      background-color: #434B5C;\n",
       "      box-shadow: 0px 1px 3px 1px rgba(0, 0, 0, 0.15);\n",
       "      filter: drop-shadow(0px 1px 2px rgba(0, 0, 0, 0.3));\n",
       "      fill: #FFFFFF;\n",
       "    }\n",
       "  </style>\n",
       "\n",
       "      <script>\n",
       "        const buttonEl =\n",
       "          document.querySelector('#df-8565f1f1-c2c5-437b-ac16-ad1250e6128c button.colab-df-convert');\n",
       "        buttonEl.style.display =\n",
       "          google.colab.kernel.accessAllowed ? 'block' : 'none';\n",
       "\n",
       "        async function convertToInteractive(key) {\n",
       "          const element = document.querySelector('#df-8565f1f1-c2c5-437b-ac16-ad1250e6128c');\n",
       "          const dataTable =\n",
       "            await google.colab.kernel.invokeFunction('convertToInteractive',\n",
       "                                                     [key], {});\n",
       "          if (!dataTable) return;\n",
       "\n",
       "          const docLinkHtml = 'Like what you see? Visit the ' +\n",
       "            '<a target=\"_blank\" href=https://colab.research.google.com/notebooks/data_table.ipynb>data table notebook</a>'\n",
       "            + ' to learn more about interactive tables.';\n",
       "          element.innerHTML = '';\n",
       "          dataTable['output_type'] = 'display_data';\n",
       "          await google.colab.output.renderOutput(dataTable, element);\n",
       "          const docLink = document.createElement('div');\n",
       "          docLink.innerHTML = docLinkHtml;\n",
       "          element.appendChild(docLink);\n",
       "        }\n",
       "      </script>\n",
       "    </div>\n",
       "  </div>\n",
       "  "
      ],
      "text/plain": [
       "            ride_id  rideable_type           started_at             ended_at  \\\n",
       "0  99103BB87CC6C1BB  electric_bike  2021-08-10 17:15:49  2021-08-10 17:22:44   \n",
       "1  EAFCCCFB0A3FC5A1  electric_bike  2021-08-10 17:23:14  2021-08-10 17:39:24   \n",
       "2  9EF4F46C57AD234D  electric_bike  2021-08-21 02:34:23  2021-08-21 02:50:36   \n",
       "3  5834D3208BFAF1DA  electric_bike  2021-08-21 06:52:55  2021-08-21 07:08:13   \n",
       "4  CD825CB87ED1D096  electric_bike  2021-08-19 11:55:29  2021-08-19 12:04:11   \n",
       "\n",
       "  week_day      ride_length start_station_name start_station_id  \\\n",
       "0        1  0 days 00:06:55                nan              nan   \n",
       "1        1  0 days 00:16:10                nan              nan   \n",
       "2        5  0 days 00:16:13                nan              nan   \n",
       "3        5  0 days 00:15:18                nan              nan   \n",
       "4        3  0 days 00:08:42                nan              nan   \n",
       "\n",
       "  end_station_name end_station_id start_lat start_lng end_lat end_lng  \\\n",
       "0              nan            nan     41.77    -87.68   41.77  -87.68   \n",
       "1              nan            nan     41.77    -87.68   41.77  -87.63   \n",
       "2              nan            nan     41.95    -87.65   41.97  -87.66   \n",
       "3              nan            nan     41.97    -87.67   41.95  -87.65   \n",
       "4              nan            nan     41.79     -87.6   41.77  -87.62   \n",
       "\n",
       "  member_casual  \n",
       "0        member  \n",
       "1        member  \n",
       "2        member  \n",
       "3        member  \n",
       "4        member  "
      ]
     },
     "execution_count": 22,
     "metadata": {},
     "output_type": "execute_result"
    }
   ],
   "source": [
    "missing_stat.head()"
   ]
  },
  {
   "cell_type": "markdown",
   "id": "_FWf6nVOSf7Q",
   "metadata": {
    "id": "_FWf6nVOSf7Q"
   },
   "source": [
    "We subtitute all the missing data from our dataframe"
   ]
  },
  {
   "cell_type": "code",
   "execution_count": null,
   "id": "2479fa07",
   "metadata": {
    "id": "2479fa07"
   },
   "outputs": [],
   "source": [
    "data=sqldf(\"select * from data where start_station_name!='nan' and end_station_name!='nan' \")"
   ]
  },
  {
   "cell_type": "markdown",
   "id": "7B4LGz80SqIT",
   "metadata": {
    "id": "7B4LGz80SqIT"
   },
   "source": [
    "how many rows we should replace?"
   ]
  },
  {
   "cell_type": "code",
   "execution_count": null,
   "id": "8f4bf93f",
   "metadata": {
    "id": "8f4bf93f"
   },
   "outputs": [],
   "source": [
    "long=len(missing_stat)"
   ]
  },
  {
   "cell_type": "markdown",
   "id": "p4dLF_vsTRlB",
   "metadata": {
    "id": "p4dLF_vsTRlB"
   },
   "source": [
    "create dataframe for clean data"
   ]
  },
  {
   "cell_type": "code",
   "execution_count": null,
   "id": "mc6S9XnJC7Y_",
   "metadata": {
    "id": "mc6S9XnJC7Y_"
   },
   "outputs": [],
   "source": [
    "columns = missing_stat.columns"
   ]
  },
  {
   "cell_type": "code",
   "execution_count": null,
   "id": "sHGPXB_DC9_p",
   "metadata": {
    "colab": {
     "base_uri": "https://localhost:8080/"
    },
    "executionInfo": {
     "elapsed": 397,
     "status": "ok",
     "timestamp": 1661940353408,
     "user": {
      "displayName": "Abdelhak Lahmamssi",
      "userId": "07059654572306092413"
     },
     "user_tz": -120
    },
    "id": "sHGPXB_DC9_p",
    "outputId": "3d598dcf-9c01-441e-a771-e5eb1bccf494"
   },
   "outputs": [
    {
     "data": {
      "text/plain": [
       "Index(['ride_id', 'rideable_type', 'started_at', 'ended_at',\n",
       "       'start_station_name', 'end_station_name', 'start_lat', 'start_lng',\n",
       "       'end_lat', 'end_lng', 'member_casual'],\n",
       "      dtype='object')"
      ]
     },
     "execution_count": 18,
     "metadata": {},
     "output_type": "execute_result"
    }
   ],
   "source": [
    "columns"
   ]
  },
  {
   "cell_type": "code",
   "execution_count": null,
   "id": "bf57cc31",
   "metadata": {
    "id": "bf57cc31"
   },
   "outputs": [],
   "source": [
    "notmissing_stat=pd.DataFrame(columns = columns)"
   ]
  },
  {
   "cell_type": "markdown",
   "id": "uIY5RaAiTW_Y",
   "metadata": {
    "id": "uIY5RaAiTW_Y"
   },
   "source": [
    "Replace missing values in 'start_station_name'\n"
   ]
  },
  {
   "cell_type": "code",
   "execution_count": null,
   "id": "xIwkQAPfCta5",
   "metadata": {
    "id": "xIwkQAPfCta5"
   },
   "outputs": [],
   "source": [
    "notmissing_stat=pd.concat([notmissing_stat,sqldf(\"select * from missing_stat where start_station_name!='nan' \")], ignore_index=True)"
   ]
  },
  {
   "cell_type": "code",
   "execution_count": null,
   "id": "2a83cd89",
   "metadata": {
    "id": "2a83cd89"
   },
   "outputs": [],
   "source": [
    "rounded=4\n",
    "while len(notmissing_stat)!=long:\n",
    "    if rounded==0:\n",
    "        missing_stat.drop(['start_station_coor'], axis=1,inplace=True)\n",
    "        break\n",
    "    \n",
    "    start_station_coor=[]\n",
    "   \n",
    "    for i in range(0,len(missing_stat)):\n",
    "        a=(round(float(missing_stat['start_lat'].values[i]),rounded),round(float(missing_stat['start_lng'].values[i]),rounded))\n",
    "        start_station_coor.append(a)\n",
    "       \n",
    "    if rounded!=4:\n",
    "        missing_stat.drop(['start_station_coor'], axis=1,inplace=True)\n",
    "\n",
    "\n",
    "    missing_stat.insert(11,'start_station_coor',start_station_coor)\n",
    "    missing_stat=missing_stat.applymap(str)\n",
    "    \n",
    "    stat_data=pd.read_csv(\"station_data\"+str(rounded)+\".csv\")\n",
    "    \n",
    "    \n",
    "    a=sqldf(\"select * from (select * from missing_stat where start_station_name='nan')as missi join stat_data on missi.start_station_coor=stat_data.station_coor\")\n",
    "    a['start_station_name']=a['station_name']\n",
    "    \n",
    "    a.drop(['station_name','station_lat','station_lng','station_coor','Unnamed: 0'], axis=1,inplace=True)\n",
    "    \n",
    "    \n",
    "    a.drop(['start_station_coor'], axis=1,inplace=True)\n",
    "\n",
    "    \n",
    "    notmissing_stat=pd.concat([notmissing_stat,a], ignore_index=True)\n",
    "    \n",
    "    missing_stat=pd.concat([missing_stat,a], ignore_index=True)\n",
    "    \n",
    "    missing_stat.drop_duplicates('ride_id',keep=False,inplace=True,ignore_index=True)\n",
    "    \n",
    "    del a\n",
    "    rounded-=1"
   ]
  },
  {
   "cell_type": "code",
   "execution_count": null,
   "id": "15162b44",
   "metadata": {
    "colab": {
     "base_uri": "https://localhost:8080/",
     "height": 835
    },
    "executionInfo": {
     "elapsed": 330,
     "status": "ok",
     "timestamp": 1661940970027,
     "user": {
      "displayName": "Abdelhak Lahmamssi",
      "userId": "07059654572306092413"
     },
     "user_tz": -120
    },
    "id": "15162b44",
    "outputId": "7aa7370f-10d7-4c83-f1a9-3d713d462ad9"
   },
   "outputs": [
    {
     "data": {
      "text/html": [
       "<div>\n",
       "<style scoped>\n",
       "    .dataframe tbody tr th:only-of-type {\n",
       "        vertical-align: middle;\n",
       "    }\n",
       "\n",
       "    .dataframe tbody tr th {\n",
       "        vertical-align: top;\n",
       "    }\n",
       "\n",
       "    .dataframe thead th {\n",
       "        text-align: right;\n",
       "    }\n",
       "</style>\n",
       "<table border=\"1\" class=\"dataframe\">\n",
       "  <thead>\n",
       "    <tr style=\"text-align: right;\">\n",
       "      <th></th>\n",
       "      <th>ride_id</th>\n",
       "      <th>rideable_type</th>\n",
       "      <th>started_at</th>\n",
       "      <th>ended_at</th>\n",
       "      <th>start_station_name</th>\n",
       "      <th>end_station_name</th>\n",
       "      <th>start_lat</th>\n",
       "      <th>start_lng</th>\n",
       "      <th>end_lat</th>\n",
       "      <th>end_lng</th>\n",
       "      <th>member_casual</th>\n",
       "    </tr>\n",
       "  </thead>\n",
       "  <tbody>\n",
       "    <tr>\n",
       "      <th>0</th>\n",
       "      <td>C1E408B2F6190D9D</td>\n",
       "      <td>electric_bike</td>\n",
       "      <td>2021-08-06 09:30:09</td>\n",
       "      <td>2021-08-06 09:35:39</td>\n",
       "      <td>Aberdeen St &amp; Jackson Blvd</td>\n",
       "      <td>nan</td>\n",
       "      <td>41.87779266666666</td>\n",
       "      <td>-87.65475116666667</td>\n",
       "      <td>41.88</td>\n",
       "      <td>-87.66</td>\n",
       "      <td>member</td>\n",
       "    </tr>\n",
       "    <tr>\n",
       "      <th>1</th>\n",
       "      <td>76A83D4BC639464D</td>\n",
       "      <td>electric_bike</td>\n",
       "      <td>2021-08-14 11:10:25</td>\n",
       "      <td>2021-08-14 11:39:33</td>\n",
       "      <td>Kingsbury St &amp; Kinzie St</td>\n",
       "      <td>nan</td>\n",
       "      <td>41.88907733333333</td>\n",
       "      <td>-87.63842616666666</td>\n",
       "      <td>41.87</td>\n",
       "      <td>-87.62</td>\n",
       "      <td>member</td>\n",
       "    </tr>\n",
       "    <tr>\n",
       "      <th>2</th>\n",
       "      <td>81C3530FF8F4EC68</td>\n",
       "      <td>electric_bike</td>\n",
       "      <td>2021-08-05 16:34:48</td>\n",
       "      <td>2021-08-05 17:01:47</td>\n",
       "      <td>Michigan Ave &amp; Oak St</td>\n",
       "      <td>nan</td>\n",
       "      <td>41.90096833333333</td>\n",
       "      <td>-87.62372416666666</td>\n",
       "      <td>41.91</td>\n",
       "      <td>-87.62</td>\n",
       "      <td>casual</td>\n",
       "    </tr>\n",
       "    <tr>\n",
       "      <th>3</th>\n",
       "      <td>A75B5B09D5F7522F</td>\n",
       "      <td>electric_bike</td>\n",
       "      <td>2021-08-18 16:32:03</td>\n",
       "      <td>2021-08-18 16:40:52</td>\n",
       "      <td>Kingsbury St &amp; Kinzie St</td>\n",
       "      <td>nan</td>\n",
       "      <td>41.889089166666665</td>\n",
       "      <td>-87.638532</td>\n",
       "      <td>41.89</td>\n",
       "      <td>-87.62</td>\n",
       "      <td>casual</td>\n",
       "    </tr>\n",
       "    <tr>\n",
       "      <th>4</th>\n",
       "      <td>F9DFE91D7C378E28</td>\n",
       "      <td>electric_bike</td>\n",
       "      <td>2021-08-26 04:09:36</td>\n",
       "      <td>2021-08-26 04:42:33</td>\n",
       "      <td>Larrabee St &amp; Armitage Ave</td>\n",
       "      <td>nan</td>\n",
       "      <td>41.918106</td>\n",
       "      <td>-87.643752</td>\n",
       "      <td>41.95</td>\n",
       "      <td>-87.71</td>\n",
       "      <td>casual</td>\n",
       "    </tr>\n",
       "    <tr>\n",
       "      <th>...</th>\n",
       "      <td>...</td>\n",
       "      <td>...</td>\n",
       "      <td>...</td>\n",
       "      <td>...</td>\n",
       "      <td>...</td>\n",
       "      <td>...</td>\n",
       "      <td>...</td>\n",
       "      <td>...</td>\n",
       "      <td>...</td>\n",
       "      <td>...</td>\n",
       "      <td>...</td>\n",
       "    </tr>\n",
       "    <tr>\n",
       "      <th>416404</th>\n",
       "      <td>1C28A39170F1BFCF</td>\n",
       "      <td>electric_bike</td>\n",
       "      <td>2021-10-22 15:48:03</td>\n",
       "      <td>2021-10-22 15:55:30</td>\n",
       "      <td>Meade Ave &amp; Diversey Ave</td>\n",
       "      <td>nan</td>\n",
       "      <td>41.91</td>\n",
       "      <td>-87.79</td>\n",
       "      <td>41.92</td>\n",
       "      <td>-87.8</td>\n",
       "      <td>member</td>\n",
       "    </tr>\n",
       "    <tr>\n",
       "      <th>416405</th>\n",
       "      <td>E23D9291AAE08CD0</td>\n",
       "      <td>electric_bike</td>\n",
       "      <td>2021-10-15 12:41:55</td>\n",
       "      <td>2021-10-15 13:11:02</td>\n",
       "      <td>Meade Ave &amp; Addison St</td>\n",
       "      <td>Campbell Ave &amp; Montrose Ave</td>\n",
       "      <td>41.97</td>\n",
       "      <td>-87.76</td>\n",
       "      <td>41.96168683333333</td>\n",
       "      <td>-87.69121466666667</td>\n",
       "      <td>member</td>\n",
       "    </tr>\n",
       "    <tr>\n",
       "      <th>416406</th>\n",
       "      <td>6463C8C4BCD3FE51</td>\n",
       "      <td>electric_bike</td>\n",
       "      <td>2021-10-01 17:58:46</td>\n",
       "      <td>2021-10-01 18:16:57</td>\n",
       "      <td>Desplaines St &amp; Kinzie St</td>\n",
       "      <td>Michigan Ave &amp; 8th St</td>\n",
       "      <td>41.91</td>\n",
       "      <td>-87.62</td>\n",
       "      <td>41.8728005</td>\n",
       "      <td>-87.62393116666667</td>\n",
       "      <td>casual</td>\n",
       "    </tr>\n",
       "    <tr>\n",
       "      <th>416407</th>\n",
       "      <td>B32EBE63A8E44A23</td>\n",
       "      <td>electric_bike</td>\n",
       "      <td>2021-10-15 12:41:54</td>\n",
       "      <td>2021-10-15 13:11:05</td>\n",
       "      <td>Meade Ave &amp; Addison St</td>\n",
       "      <td>Campbell Ave &amp; Montrose Ave</td>\n",
       "      <td>41.97</td>\n",
       "      <td>-87.76</td>\n",
       "      <td>41.96163583333333</td>\n",
       "      <td>-87.69115466666666</td>\n",
       "      <td>casual</td>\n",
       "    </tr>\n",
       "    <tr>\n",
       "      <th>416408</th>\n",
       "      <td>E51924A2CE9A1A2A</td>\n",
       "      <td>electric_bike</td>\n",
       "      <td>2021-10-09 19:16:49</td>\n",
       "      <td>2021-10-09 19:33:39</td>\n",
       "      <td>Clark St &amp; Leland Ave</td>\n",
       "      <td>Campbell Ave &amp; Montrose Ave</td>\n",
       "      <td>42.01</td>\n",
       "      <td>-87.71</td>\n",
       "      <td>41.96155666666667</td>\n",
       "      <td>-87.69117216666666</td>\n",
       "      <td>member</td>\n",
       "    </tr>\n",
       "  </tbody>\n",
       "</table>\n",
       "<p>416409 rows × 11 columns</p>\n",
       "</div>"
      ],
      "text/plain": [
       "                 ride_id  rideable_type           started_at  \\\n",
       "0       C1E408B2F6190D9D  electric_bike  2021-08-06 09:30:09   \n",
       "1       76A83D4BC639464D  electric_bike  2021-08-14 11:10:25   \n",
       "2       81C3530FF8F4EC68  electric_bike  2021-08-05 16:34:48   \n",
       "3       A75B5B09D5F7522F  electric_bike  2021-08-18 16:32:03   \n",
       "4       F9DFE91D7C378E28  electric_bike  2021-08-26 04:09:36   \n",
       "...                  ...            ...                  ...   \n",
       "416404  1C28A39170F1BFCF  electric_bike  2021-10-22 15:48:03   \n",
       "416405  E23D9291AAE08CD0  electric_bike  2021-10-15 12:41:55   \n",
       "416406  6463C8C4BCD3FE51  electric_bike  2021-10-01 17:58:46   \n",
       "416407  B32EBE63A8E44A23  electric_bike  2021-10-15 12:41:54   \n",
       "416408  E51924A2CE9A1A2A  electric_bike  2021-10-09 19:16:49   \n",
       "\n",
       "                   ended_at          start_station_name  \\\n",
       "0       2021-08-06 09:35:39  Aberdeen St & Jackson Blvd   \n",
       "1       2021-08-14 11:39:33    Kingsbury St & Kinzie St   \n",
       "2       2021-08-05 17:01:47       Michigan Ave & Oak St   \n",
       "3       2021-08-18 16:40:52    Kingsbury St & Kinzie St   \n",
       "4       2021-08-26 04:42:33  Larrabee St & Armitage Ave   \n",
       "...                     ...                         ...   \n",
       "416404  2021-10-22 15:55:30    Meade Ave & Diversey Ave   \n",
       "416405  2021-10-15 13:11:02      Meade Ave & Addison St   \n",
       "416406  2021-10-01 18:16:57   Desplaines St & Kinzie St   \n",
       "416407  2021-10-15 13:11:05      Meade Ave & Addison St   \n",
       "416408  2021-10-09 19:33:39       Clark St & Leland Ave   \n",
       "\n",
       "                   end_station_name           start_lat           start_lng  \\\n",
       "0                               nan   41.87779266666666  -87.65475116666667   \n",
       "1                               nan   41.88907733333333  -87.63842616666666   \n",
       "2                               nan   41.90096833333333  -87.62372416666666   \n",
       "3                               nan  41.889089166666665          -87.638532   \n",
       "4                               nan           41.918106          -87.643752   \n",
       "...                             ...                 ...                 ...   \n",
       "416404                          nan               41.91              -87.79   \n",
       "416405  Campbell Ave & Montrose Ave               41.97              -87.76   \n",
       "416406        Michigan Ave & 8th St               41.91              -87.62   \n",
       "416407  Campbell Ave & Montrose Ave               41.97              -87.76   \n",
       "416408  Campbell Ave & Montrose Ave               42.01              -87.71   \n",
       "\n",
       "                  end_lat             end_lng member_casual  \n",
       "0                   41.88              -87.66        member  \n",
       "1                   41.87              -87.62        member  \n",
       "2                   41.91              -87.62        casual  \n",
       "3                   41.89              -87.62        casual  \n",
       "4                   41.95              -87.71        casual  \n",
       "...                   ...                 ...           ...  \n",
       "416404              41.92               -87.8        member  \n",
       "416405  41.96168683333333  -87.69121466666667        member  \n",
       "416406         41.8728005  -87.62393116666667        casual  \n",
       "416407  41.96163583333333  -87.69115466666666        casual  \n",
       "416408  41.96155666666667  -87.69117216666666        member  \n",
       "\n",
       "[416409 rows x 11 columns]"
      ]
     },
     "execution_count": 27,
     "metadata": {},
     "output_type": "execute_result"
    }
   ],
   "source": [
    "notmissing_stat"
   ]
  },
  {
   "cell_type": "code",
   "execution_count": null,
   "id": "9821c590",
   "metadata": {
    "id": "9821c590"
   },
   "outputs": [],
   "source": [
    "missing_stat=notmissing_stat"
   ]
  },
  {
   "cell_type": "code",
   "execution_count": null,
   "id": "DgeepwJ_GdvV",
   "metadata": {
    "id": "DgeepwJ_GdvV"
   },
   "outputs": [],
   "source": [
    "notmissing_stat=0\n",
    "notmissing_stat=pd.DataFrame(columns = columns)"
   ]
  },
  {
   "cell_type": "code",
   "execution_count": null,
   "id": "vA6h-pZBGdak",
   "metadata": {
    "id": "vA6h-pZBGdak"
   },
   "outputs": [],
   "source": [
    "notmissing_stat=pd.concat([notmissing_stat,sqldf(\"select * from missing_stat where end_station_name!='nan' \")], ignore_index=True)"
   ]
  },
  {
   "cell_type": "code",
   "execution_count": null,
   "id": "E2kzR4Vne7mF",
   "metadata": {
    "id": "E2kzR4Vne7mF"
   },
   "outputs": [],
   "source": [
    "missing_stat.drop(['end_station_coor'], axis=1,inplace=True)"
   ]
  },
  {
   "cell_type": "code",
   "execution_count": null,
   "id": "bd736dc1",
   "metadata": {
    "id": "bd736dc1"
   },
   "outputs": [],
   "source": [
    "rounded=4\n",
    "while len(notmissing_stat)!=long:\n",
    "    if rounded==0:\n",
    "        missing_stat.drop(['end_station_coor'], axis=1,inplace=True)\n",
    "        break\n",
    "    \n",
    "    \n",
    "    end_station_coor=[]\n",
    "    for i in range(0,len(missing_stat)):\n",
    "        \n",
    "        b=(round(float(missing_stat['end_lat'].values[i]),rounded),round(float(missing_stat['end_lng'].values[i]),rounded))\n",
    "        end_station_coor.append(b)\n",
    "    if rounded!=4:\n",
    "        missing_stat.drop(['end_station_coor'], axis=1,inplace=True)\n",
    "\n",
    "\n",
    "    missing_stat.insert(11,'end_station_coor',end_station_coor)\n",
    "    missing_stat=missing_stat.applymap(str)\n",
    "    \n",
    "    stat_data=pd.read_csv(\"station_data\"+str(rounded)+\".csv\")\n",
    "    \n",
    "    \n",
    "    a=sqldf(\"select * from (select * from missing_stat where end_station_name='nan')as missi join stat_data on missi.end_station_coor=stat_data.station_coor\")\n",
    "    a['end_station_name']=a['station_name']\n",
    "\n",
    "    \n",
    "\n",
    "    a.drop(['station_name','station_lat','station_lng','station_coor','Unnamed: 0'], axis=1,inplace=True)\n",
    "    \n",
    "    \n",
    "    \n",
    "    a.drop(['end_station_coor'], axis=1,inplace=True)\n",
    "    notmissing_stat=pd.concat([notmissing_stat,a], ignore_index=True)\n",
    "    \n",
    "    missing_stat=pd.concat([missing_stat,a], ignore_index=True)\n",
    "    \n",
    "    missing_stat.drop_duplicates('ride_id',keep=False,inplace=True,ignore_index=True)\n",
    "    \n",
    "    del a\n",
    "    rounded-=1"
   ]
  },
  {
   "cell_type": "code",
   "execution_count": null,
   "id": "6956d313",
   "metadata": {
    "id": "6956d313"
   },
   "outputs": [],
   "source": [
    "data=pd.concat([data,notmissing_stat], ignore_index=True)"
   ]
  },
  {
   "cell_type": "code",
   "execution_count": null,
   "id": "957be2f2",
   "metadata": {
    "id": "957be2f2"
   },
   "outputs": [],
   "source": [
    "del notmissing_stat,missing_stat"
   ]
  },
  {
   "cell_type": "code",
   "execution_count": null,
   "id": "X5myBGScGJ6i",
   "metadata": {
    "colab": {
     "base_uri": "https://localhost:8080/"
    },
    "executionInfo": {
     "elapsed": 3826,
     "status": "ok",
     "timestamp": 1661942636559,
     "user": {
      "displayName": "Abdelhak Lahmamssi",
      "userId": "07059654572306092413"
     },
     "user_tz": -120
    },
    "id": "X5myBGScGJ6i",
    "outputId": "50b2bf95-15c1-4433-f4e9-df59b23822fe"
   },
   "outputs": [
    {
     "data": {
      "text/plain": [
       "Unnamed: 0            0\n",
       "ride_id               0\n",
       "rideable_type         0\n",
       "started_at            0\n",
       "ended_at              0\n",
       "week_day              0\n",
       "ride_length           0\n",
       "start_station_name    0\n",
       "end_station_name      0\n",
       "start_lat             0\n",
       "start_lng             0\n",
       "end_lat               0\n",
       "end_lng               0\n",
       "member_casual         0\n",
       "dtype: int64"
      ]
     },
     "execution_count": 5,
     "metadata": {},
     "output_type": "execute_result"
    }
   ],
   "source": [
    "data.isnull().sum()"
   ]
  },
  {
   "cell_type": "code",
   "execution_count": null,
   "id": "9bPrL55zGJ3M",
   "metadata": {
    "id": "9bPrL55zGJ3M",
    "outputId": "f9c39037-f332-4e54-b0e5-095b50599362"
   },
   "outputs": [
    {
     "data": {
      "text/plain": [
       "5672423"
      ]
     },
     "execution_count": 6,
     "metadata": {},
     "output_type": "execute_result"
    }
   ],
   "source": [
    "len(data)"
   ]
  },
  {
   "cell_type": "markdown",
   "id": "Xg2ezM-8Oo5R",
   "metadata": {
    "id": "Xg2ezM-8Oo5R"
   },
   "source": [
    "###  Create ride length is seconds"
   ]
  },
  {
   "cell_type": "code",
   "execution_count": null,
   "id": "d0bf895b",
   "metadata": {},
   "outputs": [],
   "source": [
    "ride_length=[]\n",
    "for i in range(0,len(data)):\n",
    "    start_time=data['started_at'].values[i].split()\n",
    "    end_time=data['ended_at'].values[i].split()\n",
    "    if datetime.strptime(end_time[1], '%H:%M:%S')>datetime.strptime(start_time[1], '%H:%M:%S'):\n",
    "        a=datetime.strptime(end_time[1], '%H:%M:%S')-datetime.strptime(start_time[1], '%H:%M:%S')\n",
    "        if str(a)[2]!=':':\n",
    "            ride_length.append(int(str(a)[0])*3600+int(str(a)[2]+str(a)[3])*60+int(str(a)[5]+str(a)[6]))\n",
    "        else:\n",
    "            ride_length.append(int(str(a)[0]+str(a)[1])*3600+int(str(a)[3]+str(a)[4])*60+int(str(a)[6]+str(a)[7]))\n",
    "         \n",
    "    else:\n",
    "        ride_length.append(0)"
   ]
  },
  {
   "cell_type": "code",
   "execution_count": null,
   "id": "08c5fe6c",
   "metadata": {
    "id": "08c5fe6c"
   },
   "outputs": [],
   "source": [
    "data.insert(4,'ride_length',ride_length)"
   ]
  },
  {
   "cell_type": "code",
   "execution_count": null,
   "id": "NYqgoCIsOX-4",
   "metadata": {
    "id": "NYqgoCIsOX-4"
   },
   "outputs": [],
   "source": [
    "del ride_length"
   ]
  },
  {
   "cell_type": "code",
   "execution_count": 33,
   "id": "22f9f920",
   "metadata": {
    "colab": {
     "base_uri": "https://localhost:8080/"
    },
    "executionInfo": {
     "elapsed": 22,
     "status": "ok",
     "timestamp": 1661939858184,
     "user": {
      "displayName": "Abdelhak Lahmamssi",
      "userId": "07059654572306092413"
     },
     "user_tz": -120
    },
    "id": "22f9f920",
    "outputId": "30a1cbb2-4601-4426-d769-834e1cb3b020"
   },
   "outputs": [
    {
     "data": {
      "text/plain": [
       "dtype('int64')"
      ]
     },
     "execution_count": 33,
     "metadata": {},
     "output_type": "execute_result"
    }
   ],
   "source": [
    "data['ride_length'].dtype"
   ]
  },
  {
   "cell_type": "markdown",
   "id": "3QWjL2thQyS9",
   "metadata": {
    "id": "3QWjL2thQyS9"
   },
   "source": [
    "**Checking consistency of Ride length**\n",
    "\n",
    "Some ride length duration are negative, i.e start time is actually greater than the end time."
   ]
  },
  {
   "cell_type": "code",
   "execution_count": null,
   "id": "d8fa9047",
   "metadata": {
    "id": "d8fa9047"
   },
   "outputs": [],
   "source": [
    "data=data[data['ride_length'] !=0]"
   ]
  },
  {
   "cell_type": "markdown",
   "id": "Il-2l4k6OzbF",
   "metadata": {
    "id": "Il-2l4k6OzbF"
   },
   "source": [
    "### Create week day"
   ]
  },
  {
   "cell_type": "code",
   "execution_count": null,
   "id": "d329f751",
   "metadata": {
    "colab": {
     "base_uri": "https://localhost:8080/",
     "height": 235
    },
    "executionInfo": {
     "elapsed": 427,
     "status": "error",
     "timestamp": 1662224016682,
     "user": {
      "displayName": "Abdelhak Lahmamssi",
      "userId": "07059654572306092413"
     },
     "user_tz": -120
    },
    "id": "d329f751",
    "outputId": "f98a951a-e23b-4335-ce56-6655bab3fad8"
   },
   "outputs": [],
   "source": [
    "week_day=[]\n",
    "for i in range(0,len(data)):\n",
    "    date=data['started_at'].values[i].split()\n",
    "    \n",
    "    date[0]=date[0].replace('-','/')\n",
    "    a=datetime.strptime(date[0], '%Y/%m/%d').weekday()\n",
    "    if a==0 :\n",
    "        a='Monday'\n",
    "    elif a==1 :\n",
    "        a='Tuesday'\n",
    "    elif a==2 :\n",
    "        a='wednesday'\n",
    "    elif a==3 :\n",
    "        a='Thursday'\n",
    "    elif a==4 :\n",
    "        a='Friday'\n",
    "    elif a==5 :\n",
    "        a='Saturday'\n",
    "    elif a==6 :\n",
    "        a='Sunday'\n",
    "    week_day.append(a)"
   ]
  },
  {
   "cell_type": "code",
   "execution_count": null,
   "id": "55422fb0",
   "metadata": {
    "colab": {
     "base_uri": "https://localhost:8080/",
     "height": 165
    },
    "executionInfo": {
     "elapsed": 4,
     "status": "error",
     "timestamp": 1662224017102,
     "user": {
      "displayName": "Abdelhak Lahmamssi",
      "userId": "07059654572306092413"
     },
     "user_tz": -120
    },
    "id": "55422fb0",
    "outputId": "7b150b21-30da-4685-d6d8-e90a59c749b5"
   },
   "outputs": [],
   "source": [
    "data.insert(4,'week_day',week_day)"
   ]
  },
  {
   "cell_type": "code",
   "execution_count": null,
   "id": "rAsUOzkhOhSt",
   "metadata": {
    "executionInfo": {
     "elapsed": 4,
     "status": "aborted",
     "timestamp": 1662224017103,
     "user": {
      "displayName": "Abdelhak Lahmamssi",
      "userId": "07059654572306092413"
     },
     "user_tz": -120
    },
    "id": "rAsUOzkhOhSt"
   },
   "outputs": [],
   "source": [
    "del week_day"
   ]
  },
  {
   "cell_type": "code",
   "execution_count": 37,
   "id": "2a2bdb2a",
   "metadata": {
    "executionInfo": {
     "elapsed": 4,
     "status": "aborted",
     "timestamp": 1662224017103,
     "user": {
      "displayName": "Abdelhak Lahmamssi",
      "userId": "07059654572306092413"
     },
     "user_tz": -120
    },
    "id": "2a2bdb2a",
    "scrolled": true
   },
   "outputs": [
    {
     "data": {
      "text/html": [
       "<div>\n",
       "<style scoped>\n",
       "    .dataframe tbody tr th:only-of-type {\n",
       "        vertical-align: middle;\n",
       "    }\n",
       "\n",
       "    .dataframe tbody tr th {\n",
       "        vertical-align: top;\n",
       "    }\n",
       "\n",
       "    .dataframe thead th {\n",
       "        text-align: right;\n",
       "    }\n",
       "</style>\n",
       "<table border=\"1\" class=\"dataframe\">\n",
       "  <thead>\n",
       "    <tr style=\"text-align: right;\">\n",
       "      <th></th>\n",
       "      <th>ride_id</th>\n",
       "      <th>rideable_type</th>\n",
       "      <th>started_at</th>\n",
       "      <th>ended_at</th>\n",
       "      <th>week_day</th>\n",
       "      <th>ride_length</th>\n",
       "      <th>start_station_name</th>\n",
       "      <th>end_station_name</th>\n",
       "      <th>start_lat</th>\n",
       "      <th>start_lng</th>\n",
       "      <th>end_lat</th>\n",
       "      <th>end_lng</th>\n",
       "      <th>member_casual</th>\n",
       "    </tr>\n",
       "  </thead>\n",
       "  <tbody>\n",
       "    <tr>\n",
       "      <th>0</th>\n",
       "      <td>4CA9676997DAFFF6</td>\n",
       "      <td>classic_bike</td>\n",
       "      <td>2021-11-26 10:27:28</td>\n",
       "      <td>2021-11-26 11:22:13</td>\n",
       "      <td>Friday</td>\n",
       "      <td>3285</td>\n",
       "      <td>Michigan Ave &amp; Oak St</td>\n",
       "      <td>Michigan Ave &amp; Oak St</td>\n",
       "      <td>41.900960</td>\n",
       "      <td>-87.623777</td>\n",
       "      <td>41.900960</td>\n",
       "      <td>-87.623777</td>\n",
       "      <td>casual</td>\n",
       "    </tr>\n",
       "    <tr>\n",
       "      <th>1</th>\n",
       "      <td>F3E84A230AF2D676</td>\n",
       "      <td>classic_bike</td>\n",
       "      <td>2021-11-15 09:35:03</td>\n",
       "      <td>2021-11-15 09:42:08</td>\n",
       "      <td>Monday</td>\n",
       "      <td>425</td>\n",
       "      <td>Clark St &amp; Grace St</td>\n",
       "      <td>Clark St &amp; Leland Ave</td>\n",
       "      <td>41.950780</td>\n",
       "      <td>-87.659172</td>\n",
       "      <td>41.967096</td>\n",
       "      <td>-87.667429</td>\n",
       "      <td>casual</td>\n",
       "    </tr>\n",
       "    <tr>\n",
       "      <th>2</th>\n",
       "      <td>A1F2C92308007968</td>\n",
       "      <td>electric_bike</td>\n",
       "      <td>2021-11-10 16:27:02</td>\n",
       "      <td>2021-11-10 17:04:28</td>\n",
       "      <td>wednesday</td>\n",
       "      <td>2246</td>\n",
       "      <td>Leamington Ave &amp; Hirsch St</td>\n",
       "      <td>Leamington Ave &amp; Hirsch St</td>\n",
       "      <td>41.910000</td>\n",
       "      <td>-87.750000</td>\n",
       "      <td>41.910000</td>\n",
       "      <td>-87.750000</td>\n",
       "      <td>casual</td>\n",
       "    </tr>\n",
       "    <tr>\n",
       "      <th>3</th>\n",
       "      <td>9B871C3B14E9BEC4</td>\n",
       "      <td>classic_bike</td>\n",
       "      <td>2021-11-09 19:51:36</td>\n",
       "      <td>2021-11-09 20:11:17</td>\n",
       "      <td>Tuesday</td>\n",
       "      <td>1181</td>\n",
       "      <td>Desplaines St &amp; Kinzie St</td>\n",
       "      <td>Desplaines St &amp; Kinzie St</td>\n",
       "      <td>41.888716</td>\n",
       "      <td>-87.644448</td>\n",
       "      <td>41.888716</td>\n",
       "      <td>-87.644448</td>\n",
       "      <td>casual</td>\n",
       "    </tr>\n",
       "    <tr>\n",
       "      <th>4</th>\n",
       "      <td>2A81E957DD24A3DC</td>\n",
       "      <td>classic_bike</td>\n",
       "      <td>2021-11-06 19:14:10</td>\n",
       "      <td>2021-11-06 19:33:19</td>\n",
       "      <td>Saturday</td>\n",
       "      <td>1149</td>\n",
       "      <td>Larrabee St &amp; Armitage Ave</td>\n",
       "      <td>Michigan Ave &amp; Oak St</td>\n",
       "      <td>41.918084</td>\n",
       "      <td>-87.643749</td>\n",
       "      <td>41.900960</td>\n",
       "      <td>-87.623777</td>\n",
       "      <td>casual</td>\n",
       "    </tr>\n",
       "  </tbody>\n",
       "</table>\n",
       "</div>"
      ],
      "text/plain": [
       "            ride_id  rideable_type           started_at             ended_at  \\\n",
       "0  4CA9676997DAFFF6   classic_bike  2021-11-26 10:27:28  2021-11-26 11:22:13   \n",
       "1  F3E84A230AF2D676   classic_bike  2021-11-15 09:35:03  2021-11-15 09:42:08   \n",
       "2  A1F2C92308007968  electric_bike  2021-11-10 16:27:02  2021-11-10 17:04:28   \n",
       "3  9B871C3B14E9BEC4   classic_bike  2021-11-09 19:51:36  2021-11-09 20:11:17   \n",
       "4  2A81E957DD24A3DC   classic_bike  2021-11-06 19:14:10  2021-11-06 19:33:19   \n",
       "\n",
       "    week_day  ride_length          start_station_name  \\\n",
       "0     Friday         3285       Michigan Ave & Oak St   \n",
       "1     Monday          425         Clark St & Grace St   \n",
       "2  wednesday         2246  Leamington Ave & Hirsch St   \n",
       "3    Tuesday         1181   Desplaines St & Kinzie St   \n",
       "4   Saturday         1149  Larrabee St & Armitage Ave   \n",
       "\n",
       "             end_station_name  start_lat  start_lng    end_lat    end_lng  \\\n",
       "0       Michigan Ave & Oak St  41.900960 -87.623777  41.900960 -87.623777   \n",
       "1       Clark St & Leland Ave  41.950780 -87.659172  41.967096 -87.667429   \n",
       "2  Leamington Ave & Hirsch St  41.910000 -87.750000  41.910000 -87.750000   \n",
       "3   Desplaines St & Kinzie St  41.888716 -87.644448  41.888716 -87.644448   \n",
       "4       Michigan Ave & Oak St  41.918084 -87.643749  41.900960 -87.623777   \n",
       "\n",
       "  member_casual  \n",
       "0        casual  \n",
       "1        casual  \n",
       "2        casual  \n",
       "3        casual  \n",
       "4        casual  "
      ]
     },
     "execution_count": 37,
     "metadata": {},
     "output_type": "execute_result"
    }
   ],
   "source": [
    "data.head()"
   ]
  },
  {
   "cell_type": "code",
   "execution_count": 38,
   "id": "f20dfa67",
   "metadata": {
    "executionInfo": {
     "elapsed": 5,
     "status": "aborted",
     "timestamp": 1662224017104,
     "user": {
      "displayName": "Abdelhak Lahmamssi",
      "userId": "07059654572306092413"
     },
     "user_tz": -120
    },
    "id": "f20dfa67"
   },
   "outputs": [
    {
     "data": {
      "text/plain": [
       "ride_id                object\n",
       "rideable_type          object\n",
       "started_at             object\n",
       "ended_at               object\n",
       "week_day               object\n",
       "ride_length             int64\n",
       "start_station_name     object\n",
       "end_station_name       object\n",
       "start_lat             float64\n",
       "start_lng             float64\n",
       "end_lat               float64\n",
       "end_lng               float64\n",
       "member_casual          object\n",
       "dtype: object"
      ]
     },
     "execution_count": 38,
     "metadata": {},
     "output_type": "execute_result"
    }
   ],
   "source": [
    "data.dtypes"
   ]
  },
  {
   "cell_type": "markdown",
   "id": "70e91605",
   "metadata": {},
   "source": [
    "## Analyse"
   ]
  },
  {
   "cell_type": "markdown",
   "id": "jERXBzFkRivn",
   "metadata": {
    "id": "jERXBzFkRivn"
   },
   "source": [
    "**Key tasks**\n",
    "\n",
    "\n",
    "1.   Aggregate your data so it’s useful and accessible.\n",
    "2.   Organize and format your data.\n",
    "3. Perform calculations.\n",
    "4.Identify trends and relationships.\n",
    "\n",
    "\n",
    "\n",
    "\n"
   ]
  },
  {
   "cell_type": "markdown",
   "id": "l81LyLY7SfT8",
   "metadata": {
    "id": "l81LyLY7SfT8"
   },
   "source": [
    "### Ride Analysis\n"
   ]
  },
  {
   "cell_type": "code",
   "execution_count": null,
   "id": "26fbcfb5",
   "metadata": {
    "id": "26fbcfb5",
    "outputId": "08b9ed13-fdd2-4e98-a62c-6e1879ac15d2"
   },
   "outputs": [
    {
     "name": "stdout",
     "output_type": "stream",
     "text": [
      "average ride bike length: 0 hours 16 mins 53 seconds\n"
     ]
    }
   ],
   "source": [
    "avg=np.average(data['ride_length'])\n",
    "print('average ride bike length: '+str(int(avg//3600))+' hours '+str(int((avg%3600)//60))+' mins '+str(int(((avg%3600)%60)//1))+' seconds')"
   ]
  },
  {
   "cell_type": "code",
   "execution_count": null,
   "id": "b3d42f5e",
   "metadata": {
    "id": "b3d42f5e",
    "outputId": "2695ee1e-cc86-448f-f63e-a0a799d8d1df"
   },
   "outputs": [
    {
     "name": "stdout",
     "output_type": "stream",
     "text": [
      "max ride bike length: 23 hours 44 mins 42 seconds\n"
     ]
    }
   ],
   "source": [
    "maxi=max(data['ride_length'])\n",
    "print('max ride bike length: '+str(int(maxi//3600))+' hours '+str(int((maxi%3600)//60))+' mins '+str(int(((maxi%3600)%60)//1))+' seconds')"
   ]
  },
  {
   "cell_type": "markdown",
   "id": "86JsKYmqSoqX",
   "metadata": {
    "id": "86JsKYmqSoqX"
   },
   "source": [
    "**Compare Members and Casual riders**"
   ]
  },
  {
   "cell_type": "code",
   "execution_count": null,
   "id": "6daad8e6",
   "metadata": {
    "id": "6daad8e6",
    "outputId": "881d608a-d9f5-4f45-815a-890d38c7f854"
   },
   "outputs": [
    {
     "data": {
      "image/png": "[encoded data removed]",
      "text/plain": [
       "<Figure size 720x432 with 1 Axes>"
      ]
     },
     "metadata": {
      "needs_background": "light"
     },
     "output_type": "display_data"
    }
   ],
   "source": [
    "data.groupby(['member_casual'])['ride_id'].count().plot(kind='bar', figsize=(10, 6))\n",
    "\n",
    "plt.xlabel('member vs casual') # add to x-label to the plot\n",
    "plt.ylabel('Count') # add y-label to the plot\n",
    "plt.title('Number of rides by riders') # add title to the plot\n",
    "\n",
    "plt.show()"
   ]
  },
  {
   "cell_type": "markdown",
   "id": "QAgEi_ehSyGO",
   "metadata": {
    "id": "QAgEi_ehSyGO"
   },
   "source": [
    "\n",
    "### Ride behavior of members and casual riders"
   ]
  },
  {
   "cell_type": "code",
   "execution_count": null,
   "id": "20722756",
   "metadata": {
    "id": "20722756",
    "outputId": "f54ea72d-f251-48cd-95e8-7e1dc5976385"
   },
   "outputs": [
    {
     "data": {
      "image/png": "[encoded data removed]",
      "text/plain": [
       "<Figure size 720x432 with 1 Axes>"
      ]
     },
     "metadata": {
      "needs_background": "light"
     },
     "output_type": "display_data"
    }
   ],
   "source": [
    "data.groupby(['member_casual'])['ride_length'].mean().plot(kind='barh', figsize=(10, 6))\n",
    "\n",
    "plt.xlabel('avg ride length') # add to x-label to the plot\n",
    "plt.ylabel('member vs casual') # add y-label to the plot\n",
    "plt.title('ride behavior of riders') # add title to the plot\n",
    "\n",
    "plt.show()"
   ]
  },
  {
   "cell_type": "markdown",
   "id": "6RxsdIZUEjGi",
   "metadata": {
    "id": "6RxsdIZUEjGi"
   },
   "source": [
    "**Casual riders take longer rides than members**."
   ]
  },
  {
   "cell_type": "markdown",
   "id": "y5CWLxb4TA8X",
   "metadata": {
    "id": "y5CWLxb4TA8X"
   },
   "source": [
    "### Comparing Bikes\n"
   ]
  },
  {
   "cell_type": "code",
   "execution_count": null,
   "id": "4e8339b0",
   "metadata": {
    "id": "4e8339b0",
    "outputId": "8955aabf-927a-4a70-a2a8-3327bf869fb4"
   },
   "outputs": [
    {
     "data": {
      "image/png": "[encoded data removed]",
      "text/plain": [
       "<Figure size 720x432 with 1 Axes>"
      ]
     },
     "metadata": {
      "needs_background": "light"
     },
     "output_type": "display_data"
    }
   ],
   "source": [
    "data.groupby(['rideable_type'])['ride_id'].count().plot(kind='barh', figsize=(10, 6))\n",
    "\n",
    "plt.xlabel('Count') # add to x-label to the plot\n",
    "plt.ylabel('bike type') # add y-label to the plot\n",
    "plt.title('bike types used') # add title to the plot\n",
    "\n",
    "plt.show()"
   ]
  },
  {
   "cell_type": "markdown",
   "id": "79Y9zwRlE5EY",
   "metadata": {
    "id": "79Y9zwRlE5EY"
   },
   "source": [
    "Classic Bike is more preferred than Electric Bike.\n",
    "\n",
    "Docked Bike is the least preferred Bike."
   ]
  },
  {
   "cell_type": "markdown",
   "id": "qEKSuFbETECt",
   "metadata": {
    "id": "qEKSuFbETECt"
   },
   "source": [
    "### Choice of Bikes by Riders"
   ]
  },
  {
   "cell_type": "code",
   "execution_count": null,
   "id": "ccb6de63",
   "metadata": {
    "id": "ccb6de63"
   },
   "outputs": [],
   "source": [
    "x=['member','casual']\n",
    "y1=data[data['rideable_type']=='classic_bike'].groupby(['member_casual'])['ride_id'].count()\n",
    "y2=data[data['rideable_type']=='electric_bike'].groupby(['member_casual'])['ride_id'].count()\n",
    "y3=data[data['rideable_type']=='docked_bike'].groupby(['member_casual'])['ride_id'].count()"
   ]
  },
  {
   "cell_type": "code",
   "execution_count": null,
   "id": "d172905f",
   "metadata": {
    "id": "d172905f",
    "outputId": "bb28bf59-3a58-49b3-a4a6-d2aed46cfc06"
   },
   "outputs": [
    {
     "data": {
      "image/png": "[encoded data removed]",
      "text/plain": [
       "<Figure size 720x576 with 1 Axes>"
      ]
     },
     "metadata": {
      "needs_background": "light"
     },
     "output_type": "display_data"
    }
   ],
   "source": [
    "f, ax = plt.subplots(figsize=(10,8))\n",
    "plt.bar(x,y1)\n",
    "plt.bar(x, y2, bottom=y1, color='g')\n",
    "plt.bar(x, y3, bottom=y1+y2, color='y')\n",
    "plt.xlabel(\"member_casual\")\n",
    "plt.ylabel(\"Count\")\n",
    "plt.legend([\"classic_bike\", \"electric_bike\", \"docked_bike\"])\n",
    "plt.title(\"choice of bike rides by riders\")\n",
    "plt.show()"
   ]
  },
  {
   "cell_type": "markdown",
   "id": "DDbCcZcdTNFD",
   "metadata": {
    "id": "DDbCcZcdTNFD"
   },
   "source": [
    "### Weekday Rides (usage on different days)"
   ]
  },
  {
   "cell_type": "code",
   "execution_count": null,
   "id": "6b1e1f5a",
   "metadata": {
    "id": "6b1e1f5a",
    "outputId": "4ae53264-e5bd-4ab2-9d29-116c20d8a3ce"
   },
   "outputs": [
    {
     "data": {
      "image/png": "[encoded data removed]",
      "text/plain": [
       "<Figure size 720x576 with 1 Axes>"
      ]
     },
     "metadata": {
      "needs_background": "light"
     },
     "output_type": "display_data"
    }
   ],
   "source": [
    "x=['Monday', 'Tuesday', 'Wednesday','Thursday', 'Friday', 'Saturday','Sunday']\n",
    "y=data.groupby(['week_day'])['ride_id'].count()\n",
    "f, ax = plt.subplots(figsize=(10,8))\n",
    "plt.bar(x,y, align='edge', width=0.4)\n",
    "plt.xlabel('days of the week') # add to x-label to the plot\n",
    "plt.ylabel('Count') # add y-label to the plot\n",
    "plt.title('usage per day') # add title to the plot\n",
    "\n",
    "plt.show()"
   ]
  },
  {
   "cell_type": "markdown",
   "id": "GRwlzcESTS0v",
   "metadata": {
    "id": "GRwlzcESTS0v"
   },
   "source": [
    "### Daily rides of members and casual riders"
   ]
  },
  {
   "cell_type": "code",
   "execution_count": null,
   "id": "2cd7b2a0",
   "metadata": {
    "id": "2cd7b2a0",
    "outputId": "7c0b9677-5e37-401e-9571-ffb2cb07f84c"
   },
   "outputs": [
    {
     "data": {
      "image/png": "[encoded data removed]",
      "text/plain": [
       "<Figure size 720x576 with 1 Axes>"
      ]
     },
     "metadata": {
      "needs_background": "light"
     },
     "output_type": "display_data"
    }
   ],
   "source": [
    "x=['Monday', 'Tuesday', 'Wednesday','Thursday', 'Friday', 'Saturday','Sunday']\n",
    "y1=data[data['member_casual']=='member'].groupby(['week_day'])['ride_id'].count()\n",
    "y2=data[data['member_casual']=='casual'].groupby(['week_day'])['ride_id'].count()\n",
    "\n",
    "\n",
    "f, ax = plt.subplots(figsize=(10,8))\n",
    "plt.bar(x,y1, align='edge', width=0.4)\n",
    "plt.bar(x, y2, color='g',align='edge', width=-0.4)\n",
    "\n",
    "plt.xlabel(\"Days of the week\")\n",
    "plt.ylabel(\"Count\")\n",
    "plt.legend([\"member\", \"casual\"])\n",
    "plt.title(\"Daily rides of members and casual riders\")\n",
    "plt.show()"
   ]
  },
  {
   "cell_type": "markdown",
   "id": "aYsvO0OjFXLq",
   "metadata": {
    "id": "aYsvO0OjFXLq"
   },
   "source": [
    "Member's usage is high throughout friday and the weekend. \n",
    "\n",
    "Casual Riders prefer to ride on wednesday."
   ]
  },
  {
   "cell_type": "markdown",
   "id": "HN4KvQ2UTbwa",
   "metadata": {
    "id": "HN4KvQ2UTbwa"
   },
   "source": [
    "### Monthly Trends of rides of members and casual riders"
   ]
  },
  {
   "cell_type": "code",
   "execution_count": null,
   "id": "c79ec35a",
   "metadata": {
    "id": "c79ec35a"
   },
   "outputs": [],
   "source": [
    "x=['January','February','March','April','May' ,'June','July','August','September' ,'October' ,'November','December' ]\n",
    "month_rider_type=pd.DataFrame()\n",
    "for i in range(1,10):\n",
    "    a=data[data.started_at.str.contains('-0'+str(i)+'-')].groupby(['member_casual'])['ride_id'].count()\n",
    "    month_rider_type=pd.concat([month_rider_type,a], axis=1)\n",
    "    month_rider_type.rename(columns={'ride_id': x[i-1]}, inplace=True)\n",
    "for i in range(10,13):\n",
    "    a=data[data.started_at.str.contains('-'+str(i)+'-')].groupby(['member_casual'])['ride_id'].count()\n",
    "    month_rider_type=pd.concat([month_rider_type,a], axis=1)\n",
    "    month_rider_type.rename(columns={'ride_id': x[i-1]}, inplace=True)\n",
    "#month_rider_type.reset_index(inplace=True)\n",
    "#month_rider_type.rename(columns={'index': 'casual_member'}, inplace=True)"
   ]
  },
  {
   "cell_type": "code",
   "execution_count": null,
   "id": "6619b99c",
   "metadata": {
    "id": "6619b99c"
   },
   "outputs": [],
   "source": [
    "month_rider_type['casual_member']=month_rider_type.index"
   ]
  },
  {
   "cell_type": "code",
   "execution_count": null,
   "id": "678e9395",
   "metadata": {
    "id": "678e9395",
    "outputId": "a2c5f6be-1554-4b8c-e92f-f574b46a9b3e"
   },
   "outputs": [
    {
     "data": {
      "text/html": [
       "<div>\n",
       "<style scoped>\n",
       "    .dataframe tbody tr th:only-of-type {\n",
       "        vertical-align: middle;\n",
       "    }\n",
       "\n",
       "    .dataframe tbody tr th {\n",
       "        vertical-align: top;\n",
       "    }\n",
       "\n",
       "    .dataframe thead th {\n",
       "        text-align: right;\n",
       "    }\n",
       "</style>\n",
       "<table border=\"1\" class=\"dataframe\">\n",
       "  <thead>\n",
       "    <tr style=\"text-align: right;\">\n",
       "      <th></th>\n",
       "      <th>January</th>\n",
       "      <th>February</th>\n",
       "      <th>March</th>\n",
       "      <th>April</th>\n",
       "      <th>May</th>\n",
       "      <th>June</th>\n",
       "      <th>July</th>\n",
       "      <th>August</th>\n",
       "      <th>September</th>\n",
       "      <th>October</th>\n",
       "      <th>November</th>\n",
       "      <th>December</th>\n",
       "    </tr>\n",
       "  </thead>\n",
       "  <tbody>\n",
       "    <tr>\n",
       "      <th>casual</th>\n",
       "      <td>18333</td>\n",
       "      <td>19083</td>\n",
       "      <td>81196</td>\n",
       "      <td>113878</td>\n",
       "      <td>254894</td>\n",
       "      <td>335721</td>\n",
       "      <td>365071</td>\n",
       "      <td>407654</td>\n",
       "      <td>359766</td>\n",
       "      <td>254564</td>\n",
       "      <td>106076</td>\n",
       "      <td>69090</td>\n",
       "    </tr>\n",
       "    <tr>\n",
       "      <th>member</th>\n",
       "      <td>84999</td>\n",
       "      <td>88398</td>\n",
       "      <td>181203</td>\n",
       "      <td>227991</td>\n",
       "      <td>330650</td>\n",
       "      <td>373015</td>\n",
       "      <td>384966</td>\n",
       "      <td>390152</td>\n",
       "      <td>390762</td>\n",
       "      <td>372680</td>\n",
       "      <td>252366</td>\n",
       "      <td>177376</td>\n",
       "    </tr>\n",
       "  </tbody>\n",
       "</table>\n",
       "</div>"
      ],
      "text/plain": [
       "        January  February   March   April     May    June    July  August  \\\n",
       "casual    18333     19083   81196  113878  254894  335721  365071  407654   \n",
       "member    84999     88398  181203  227991  330650  373015  384966  390152   \n",
       "\n",
       "        September  October  November  December  \n",
       "casual     359766   254564    106076     69090  \n",
       "member     390762   372680    252366    177376  "
      ]
     },
     "execution_count": 145,
     "metadata": {},
     "output_type": "execute_result"
    }
   ],
   "source": [
    "month_rider_type"
   ]
  },
  {
   "cell_type": "code",
   "execution_count": null,
   "id": "0446e7be",
   "metadata": {
    "id": "0446e7be",
    "outputId": "0ef37b77-7541-48a1-ac31-d31bfa4f9c79"
   },
   "outputs": [
    {
     "data": {
      "image/png": "[encoded data removed]",
      "text/plain": [
       "<Figure size 720x432 with 1 Axes>"
      ]
     },
     "metadata": {
      "needs_background": "light"
     },
     "output_type": "display_data"
    }
   ],
   "source": [
    "month_rider_type.loc[['casual','member'], x].plot(kind='bar', figsize=(10, 6))\n",
    "plt.xlabel(\"riders type\")\n",
    "plt.ylabel(\"Count\")\n",
    "\n",
    "plt.title(\"Monthly rides of members and casual riders\")\n",
    "plt.show()"
   ]
  },
  {
   "cell_type": "markdown",
   "id": "zDF9g4smGPRb",
   "metadata": {
    "id": "zDF9g4smGPRb"
   },
   "source": [
    "Casual riders numbers spikes up in the summer.\n",
    "\n",
    "Maybe a good way to deal with that is issuing summer subscription."
   ]
  },
  {
   "cell_type": "markdown",
   "id": "MQrYDhXYGrow",
   "metadata": {
    "id": "MQrYDhXYGrow"
   },
   "source": [
    "### For further analysis we are going to use advanced visualisations with PowerBi"
   ]
  },
  {
   "cell_type": "markdown",
   "id": "S7pCTo3QR21d",
   "metadata": {
    "id": "S7pCTo3QR21d"
   },
   "source": [
    "![picture](https://drive.google.com/uc?export=view&id=1ETyxHBx-q0m94wAuhLMsthRufyTzBslx)\n"
   ]
  },
  {
   "cell_type": "markdown",
   "id": "ccF1O3SoSCaK",
   "metadata": {
    "id": "ccF1O3SoSCaK"
   },
   "source": [
    "Members take more rides than casual Riders.\n",
    "\n",
    "Casual Riders take longer rides than Members."
   ]
  },
  {
   "cell_type": "markdown",
   "id": "UzarjjmEKuQi",
   "metadata": {
    "id": "UzarjjmEKuQi"
   },
   "source": [
    "**Most used stations by casual riders**"
   ]
  },
  {
   "cell_type": "markdown",
   "id": "eYNesqAzJxF6",
   "metadata": {
    "id": "eYNesqAzJxF6"
   },
   "source": [
    "![picture](https://drive.google.com/uc?export=view&id=14-0fKds9zs1uA4sZ49-78tpFOnCVudWv)"
   ]
  },
  {
   "cell_type": "markdown",
   "id": "m4ucNa45TmUZ",
   "metadata": {
    "id": "m4ucNa45TmUZ"
   },
   "source": [
    "These are the stations where our publicity is most effective"
   ]
  },
  {
   "cell_type": "markdown",
   "id": "SGkx1vm0T1Zy",
   "metadata": {
    "id": "SGkx1vm0T1Zy"
   },
   "source": [
    "## Share\n",
    "**Recommendations**\n",
    "\n",
    "To convert casual riders into annual members, the following marketing strategies can be implemented:\n",
    "\n",
    "Offer occasional membership discounts to casual riders during the summer.\n",
    "\n",
    "Put banners or special discount advertisements at the 5 most used station by casual riders."
   ]
  },
  {
   "cell_type": "code",
   "execution_count": null,
   "id": "ci3MSB62UVHI",
   "metadata": {
    "id": "ci3MSB62UVHI"
   },
   "outputs": [],
   "source": []
  }
 ],
 "metadata": {
  "colab": {
   "collapsed_sections": [
    "TyyM8mwDNErl",
    "TxcJB10OWpfA",
    "4s_7lTHFRFK7",
    "yBNjUquHO6jK",
    "awsIZmlCPocm",
    "NBukfV0tPeVi",
    "qRuhHCaXRdmi",
    "Xg2ezM-8Oo5R",
    "Il-2l4k6OzbF",
    "6Y5xAyFbB67B",
    "l81LyLY7SfT8",
    "QAgEi_ehSyGO",
    "y5CWLxb4TA8X",
    "qEKSuFbETECt",
    "DDbCcZcdTNFD",
    "GRwlzcESTS0v",
    "HN4KvQ2UTbwa",
    "SGkx1vm0T1Zy"
   ],
   "provenance": []
  },
  "kernelspec": {
   "display_name": "Python 3 (ipykernel)",
   "language": "python",
   "name": "python3"
  },
  "language_info": {
   "codemirror_mode": {
    "name": "ipython",
    "version": 3
   },
   "file_extension": ".py",
   "mimetype": "text/x-python",
   "name": "python",
   "nbconvert_exporter": "python",
   "pygments_lexer": "ipython3",
   "version": "3.9.12"
  }
 },
 "nbformat": 4,
 "nbformat_minor": 5
}
